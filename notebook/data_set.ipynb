{
 "cells": [
  {
   "cell_type": "code",
   "execution_count": null,
   "metadata": {},
   "outputs": [],
   "source": [
    "import pandas as pd\n",
    "import os\n",
    "\n",
    "pd.set_option('display.max_colwidth', None)"
   ]
  },
  {
   "cell_type": "code",
   "execution_count": null,
   "metadata": {},
   "outputs": [],
   "source": [
    "file_path = os.path.join('/mnt','d','data', 'amazon-review-data')\n",
    "print(file_path)\n",
    "\n",
    "for filepath, _, filenames in os.walk(file_path):\n",
    "    for filename in filenames:\n",
    "        print(os.path.join(filepath, filename))"
   ]
  },
  {
   "cell_type": "code",
   "execution_count": null,
   "metadata": {},
   "outputs": [],
   "source": [
    "# /mnt/d/data/amazon-review-data/dataset_en_dev.json\n",
    "dataset_en_dev = pd.read_csv('/mnt/d/data/amazon-review-data/amazon_reviews_us_Mobile_Electronics_v1_00.tsv', sep='\\t', header=0, nrows=35000)\n",
    "dataset_en_dev.columns"
   ]
  },
  {
   "cell_type": "code",
   "execution_count": 83,
   "metadata": {},
   "outputs": [
    {
     "data": {
      "text/plain": [
       "B00KD4748Y    222\n",
       "B007UXNHWS     46\n",
       "B00OY8QYPY     45\n",
       "B00AJD0H88     37\n",
       "B00RDQ87TK     25\n",
       "             ... \n",
       "B00S01H5TA      1\n",
       "B00PV3MGPS      1\n",
       "B00I1OLQHI      1\n",
       "B00M5E7M32      1\n",
       "B00JA09OL2      1\n",
       "Name: product_id, Length: 134, dtype: int64"
      ]
     },
     "execution_count": 83,
     "metadata": {},
     "output_type": "execute_result"
    }
   ],
   "source": [
    "filter_dataset = dataset_en_dev.query('product_title.str.contains(r\"Headphone(?!$)\")', engine='python')[['product_parent', 'product_title', 'review_body', 'product_id', 'star_rating']]\n",
    "filter_dataset.product_id.value_counts()"
   ]
  },
  {
   "cell_type": "code",
   "execution_count": 86,
   "metadata": {},
   "outputs": [
    {
     "name": "stdout",
     "output_type": "stream",
     "text": [
      "<class 'pandas.core.frame.DataFrame'>\n",
      "Int64Index: 46 entries, 1541 to 33877\n",
      "Data columns (total 15 columns):\n",
      " #   Column             Non-Null Count  Dtype \n",
      "---  ------             --------------  ----- \n",
      " 0   marketplace        46 non-null     object\n",
      " 1   customer_id        46 non-null     int64 \n",
      " 2   review_id          46 non-null     object\n",
      " 3   product_id         46 non-null     object\n",
      " 4   product_parent     46 non-null     int64 \n",
      " 5   product_title      46 non-null     object\n",
      " 6   product_category   46 non-null     object\n",
      " 7   star_rating        46 non-null     int64 \n",
      " 8   helpful_votes      46 non-null     int64 \n",
      " 9   total_votes        46 non-null     int64 \n",
      " 10  vine               46 non-null     object\n",
      " 11  verified_purchase  46 non-null     object\n",
      " 12  review_headline    46 non-null     object\n",
      " 13  review_body        46 non-null     object\n",
      " 14  review_date        46 non-null     object\n",
      "dtypes: int64(5), object(10)\n",
      "memory usage: 5.8+ KB\n"
     ]
    }
   ],
   "source": [
    "dataset_en_dev_sample = dataset_en_dev[dataset_en_dev['product_id'] == 'B007UXNHWS']\n",
    "dataset_en_dev_sample.info()"
   ]
  },
  {
   "cell_type": "code",
   "execution_count": 89,
   "metadata": {},
   "outputs": [
    {
     "data": {
      "text/plain": [
       "1541                                                                                                                                                     Great color and just as expected.  Great fit and excellent price!\n",
       "2354    I bought this cover after the original one I purchased with my Nook Simple Touch literally fell apart. This cover is MUCH better made and high quality, plus I like that the power button is uncovered. Recommend.\n",
       "3165                                                                                                                                                                                                Perfect fit and sturdy\n",
       "4023                                                                                                                                                                                        Just perfect.  Love the color.\n",
       "7663                                                                                              He loves the  the look of it and likes that it has somewhere to put paper for his notes so he can give it to his teacher\n",
       "Name: review_body, dtype: object"
      ]
     },
     "execution_count": 89,
     "metadata": {},
     "output_type": "execute_result"
    }
   ],
   "source": [
    "dataset_en_dev_sample['review_body'].head()"
   ]
  }
 ],
 "metadata": {
  "kernelspec": {
   "display_name": "Python 3",
   "language": "python",
   "name": "python3"
  },
  "language_info": {
   "codemirror_mode": {
    "name": "ipython",
    "version": 3
   },
   "file_extension": ".py",
   "mimetype": "text/x-python",
   "name": "python",
   "nbconvert_exporter": "python",
   "pygments_lexer": "ipython3",
   "version": "3.8.3"
  }
 },
 "nbformat": 4,
 "nbformat_minor": 4
}
