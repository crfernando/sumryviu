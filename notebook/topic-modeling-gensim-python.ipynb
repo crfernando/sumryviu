{
 "cells": [
  {
   "cell_type": "code",
   "execution_count": 75,
   "metadata": {},
   "outputs": [],
   "source": [
    "import numpy as np\n",
    "import pandas as pd\n",
    "import gensim\n",
    "import gensim.corpora as corpora\n",
    "from gensim.utils import simple_preprocess\n",
    "from gensim.models import CoherenceModel\n",
    "from nltk.corpus import stopwords\n",
    "import spacy\n",
    "import matplotlib.pyplot as plt\n",
    "\n",
    "pd.set_option('display.max_colwidth', None)"
   ]
  },
  {
   "cell_type": "code",
   "execution_count": 2,
   "metadata": {},
   "outputs": [
    {
     "name": "stdout",
     "output_type": "stream",
     "text": [
      "../data/B005SUHPO6.csv\n",
      "../data/B0090AAOUW.csv\n",
      "../data/B00KROF20M.csv\n"
     ]
    }
   ],
   "source": [
    "import os\n",
    "\n",
    "for dirname, _, filenames in os.walk('../data'):\n",
    "    for filename in filenames:\n",
    "        print(os.path.join(dirname, filename))"
   ]
  },
  {
   "cell_type": "code",
   "execution_count": 3,
   "metadata": {},
   "outputs": [
    {
     "name": "stdout",
     "output_type": "stream",
     "text": [
      "<class 'pandas.core.frame.DataFrame'>\n",
      "RangeIndex: 18688 entries, 0 to 18687\n",
      "Data columns (total 10 columns):\n",
      " #   Column          Non-Null Count  Dtype  \n",
      "---  ------          --------------  -----  \n",
      " 0   Unnamed: 0      18688 non-null  int64  \n",
      " 1   reviewerID      18688 non-null  object \n",
      " 2   asin            18688 non-null  object \n",
      " 3   reviewerName    18685 non-null  object \n",
      " 4   helpful         18688 non-null  object \n",
      " 5   reviewText      18684 non-null  object \n",
      " 6   overall         18688 non-null  float64\n",
      " 7   summary         18688 non-null  object \n",
      " 8   unixReviewTime  18688 non-null  int64  \n",
      " 9   reviewTime      18688 non-null  object \n",
      "dtypes: float64(1), int64(2), object(7)\n",
      "memory usage: 1.4+ MB\n"
     ]
    }
   ],
   "source": [
    "data = pd.read_csv('../data/B005SUHPO6.csv')\n",
    "data.info()"
   ]
  },
  {
   "cell_type": "code",
   "execution_count": 4,
   "metadata": {},
   "outputs": [
    {
     "name": "stdout",
     "output_type": "stream",
     "text": [
      "<class 'pandas.core.frame.DataFrame'>\n",
      "RangeIndex: 18688 entries, 0 to 18687\n",
      "Data columns (total 1 columns):\n",
      " #   Column      Non-Null Count  Dtype \n",
      "---  ------      --------------  ----- \n",
      " 0   reviewtext  18684 non-null  object\n",
      "dtypes: object(1)\n",
      "memory usage: 146.1+ KB\n"
     ]
    }
   ],
   "source": [
    "data.columns = map(str.lower, data.columns)\n",
    "data_reviews = data[['reviewtext']]\n",
    "data_reviews.info()"
   ]
  },
  {
   "cell_type": "code",
   "execution_count": 5,
   "metadata": {},
   "outputs": [],
   "source": [
    "review_text_sample = data_reviews.sample(10).values.tolist()"
   ]
  },
  {
   "cell_type": "code",
   "execution_count": 6,
   "metadata": {},
   "outputs": [
    {
     "data": {
      "text/plain": [
       "['It was perfect!! It was what was needed to protect the phone and it works great. I would recommend the product to others.']"
      ]
     },
     "execution_count": 6,
     "metadata": {},
     "output_type": "execute_result"
    }
   ],
   "source": [
    "review_text_sample[6]"
   ]
  },
  {
   "cell_type": "code",
   "execution_count": 7,
   "metadata": {},
   "outputs": [],
   "source": [
    "def tokenize(texts):\n",
    "    for text in texts:\n",
    "        yield(simple_preprocess(str(text),deacc=True))"
   ]
  },
  {
   "cell_type": "code",
   "execution_count": 8,
   "metadata": {},
   "outputs": [],
   "source": [
    "review_text_token = list(tokenize(review_text_sample))"
   ]
  },
  {
   "cell_type": "code",
   "execution_count": 9,
   "metadata": {},
   "outputs": [
    {
     "name": "stdout",
     "output_type": "stream",
     "text": [
      "['It was perfect!! It was what was needed to protect the phone and it works great. I would recommend the product to others.']\n",
      "['it', 'was', 'perfect', 'it', 'was', 'what', 'was', 'needed', 'to', 'protect', 'the', 'phone', 'and', 'it', 'works', 'great', 'would', 'recommend', 'the', 'product', 'to', 'others']\n"
     ]
    }
   ],
   "source": [
    "print(review_text_sample[6])\n",
    "print(review_text_token[6])"
   ]
  },
  {
   "cell_type": "code",
   "execution_count": 10,
   "metadata": {},
   "outputs": [],
   "source": [
    "# remove stopwords\n",
    "stop_words=stopwords.words('english')\n",
    "def remove_stopwords(texts):\n",
    "    return [[word for word in text if word not in stop_words] for text in texts]\n",
    "\n",
    "review_text_token_nostops = remove_stopwords(review_text_token)"
   ]
  },
  {
   "cell_type": "code",
   "execution_count": 11,
   "metadata": {},
   "outputs": [
    {
     "name": "stdout",
     "output_type": "stream",
     "text": [
      "['perfect', 'needed', 'protect', 'phone', 'works', 'great', 'would', 'recommend', 'product', 'others']\n"
     ]
    }
   ],
   "source": [
    "print(review_text_token_nostops[6])"
   ]
  },
  {
   "cell_type": "code",
   "execution_count": 12,
   "metadata": {},
   "outputs": [],
   "source": [
    "# Applying Bigrams and trigrams \n",
    "def make_bigram(texts):\n",
    "    bigram = gensim.models.Phrases(texts, min_count=5, threshold=100)\n",
    "    trigram = gensim.models.Phrases(bigram[texts], threshold=100)\n",
    "    bigram_mod = gensim.models.phrases.Phraser(bigram)\n",
    "    \n",
    "    return [bigram_mod[doc] for doc in texts]\n",
    "\n",
    "review_text_bigrams = make_bigram(review_text_token_nostops)"
   ]
  },
  {
   "cell_type": "code",
   "execution_count": 13,
   "metadata": {},
   "outputs": [
    {
     "name": "stdout",
     "output_type": "stream",
     "text": [
      "['perfect', 'needed', 'protect', 'phone', 'works', 'great', 'would', 'recommend', 'product', 'others']\n"
     ]
    }
   ],
   "source": [
    "print(review_text_bigrams[6])"
   ]
  },
  {
   "cell_type": "code",
   "execution_count": 14,
   "metadata": {},
   "outputs": [],
   "source": [
    "#lemmatize\n",
    "def lemmatization(texts, allowed_postags=['NOUN', 'ADJ', 'VERB', 'ADV']):\n",
    "    \"\"\"https://spacy.io/api/annotation\"\"\"\n",
    "    nlp = spacy.load('en', disable=['parser', 'ner'])\n",
    "    \n",
    "    texts_out = []\n",
    "    for sent in texts:\n",
    "        doc = nlp(' '.join(sent)) \n",
    "        texts_out.append([token.lemma_ for token in doc if token.pos_ in allowed_postags])\n",
    "    return texts_out"
   ]
  },
  {
   "cell_type": "code",
   "execution_count": 15,
   "metadata": {},
   "outputs": [],
   "source": [
    "data_lemmatized = lemmatization(review_text_bigrams, allowed_postags=['NOUN', 'ADJ', 'VERB', 'ADV'])"
   ]
  },
  {
   "cell_type": "code",
   "execution_count": 16,
   "metadata": {},
   "outputs": [
    {
     "name": "stdout",
     "output_type": "stream",
     "text": [
      "['perfect', 'need', 'protect', 'phone', 'work', 'great', 'would', 'recommend', 'product', 'other']\n"
     ]
    }
   ],
   "source": [
    "print(data_lemmatized[6])"
   ]
  },
  {
   "cell_type": "markdown",
   "metadata": {},
   "source": [
    "##### Create Dictionary"
   ]
  },
  {
   "cell_type": "code",
   "execution_count": 17,
   "metadata": {},
   "outputs": [
    {
     "name": "stdout",
     "output_type": "stream",
     "text": [
      "182\n"
     ]
    }
   ],
   "source": [
    "dictionary = corpora.Dictionary(data_lemmatized)\n",
    "print(dictionary.num_nnz)"
   ]
  },
  {
   "cell_type": "code",
   "execution_count": 18,
   "metadata": {},
   "outputs": [
    {
     "data": {
      "text/plain": [
       "'always'"
      ]
     },
     "execution_count": 18,
     "metadata": {},
     "output_type": "execute_result"
    }
   ],
   "source": [
    "dictionary[0]"
   ]
  },
  {
   "cell_type": "markdown",
   "metadata": {},
   "source": [
    "##### Create document term matrix"
   ]
  },
  {
   "cell_type": "code",
   "execution_count": 19,
   "metadata": {},
   "outputs": [
    {
     "name": "stdout",
     "output_type": "stream",
     "text": [
      "10\n"
     ]
    }
   ],
   "source": [
    "corpus = [dictionary.doc2bow(doc) for doc in data_lemmatized]\n",
    "print(len(corpus))"
   ]
  },
  {
   "cell_type": "markdown",
   "metadata": {},
   "source": [
    "##### Build LDA model"
   ]
  },
  {
   "cell_type": "code",
   "execution_count": 20,
   "metadata": {},
   "outputs": [],
   "source": [
    "# Fit LDA model on the dataset\n",
    "ntopics = 3\n",
    "lda = gensim.models.ldamodel.LdaModel # Instantiate LDA model\n",
    "ldamodel = lda(corpus=corpus, id2word=dictionary, num_topics=ntopics, random_state=100, update_every=1, chunksize=100, passes=10, alpha='auto', per_word_topics=True) "
   ]
  },
  {
   "cell_type": "code",
   "execution_count": 21,
   "metadata": {},
   "outputs": [
    {
     "data": {
      "text/plain": [
       "[(0,\n",
       "  '0.027*\"product\" + 0.027*\"original\" + 0.027*\"item\" + 0.019*\"well\" + 0.019*\"recommend\" + 0.019*\"would\" + 0.019*\"packaging\" + 0.019*\"come\" + 0.019*\"model\" + 0.019*\"first\"'),\n",
       " (1,\n",
       "  '0.039*\"love\" + 0.030*\"phone\" + 0.021*\"good\" + 0.021*\"great\" + 0.021*\"new\" + 0.021*\"brand\" + 0.021*\"color\" + 0.021*\"case\" + 0.021*\"several\" + 0.012*\"bulky\"'),\n",
       " (2,\n",
       "  '0.054*\"case\" + 0.034*\"phone\" + 0.024*\"good\" + 0.023*\"bulky\" + 0.013*\"brand\" + 0.013*\"fit\" + 0.013*\"still\" + 0.013*\"product\" + 0.013*\"love\" + 0.013*\"proof\"')]"
      ]
     },
     "execution_count": 21,
     "metadata": {},
     "output_type": "execute_result"
    }
   ],
   "source": [
    "ldamodel.print_topics()"
   ]
  },
  {
   "cell_type": "code",
   "execution_count": 22,
   "metadata": {},
   "outputs": [],
   "source": [
    "# Assigns the topics to the documents in corpus\n",
    "lda_corpus = ldamodel[corpus]\n",
    "# [doc for doc in lda_corpus]"
   ]
  },
  {
   "cell_type": "code",
   "execution_count": 23,
   "metadata": {},
   "outputs": [
    {
     "name": "stdout",
     "output_type": "stream",
     "text": [
      "\n",
      "Perplexity:  -5.221760411320918\n",
      "\n",
      "Coherence Score:  0.3414510553724563\n"
     ]
    }
   ],
   "source": [
    "# Compute Perplexity\n",
    "perplexity_lda = ldamodel.log_perplexity(corpus)\n",
    "\n",
    "# Compute Coherence Score\n",
    "coherence_model_lda = CoherenceModel(model=ldamodel, texts=data_lemmatized, dictionary=dictionary, coherence='c_v')\n",
    "coherence_lda = coherence_model_lda.get_coherence()\n",
    "\n",
    "print('\\nPerplexity: ', perplexity_lda)  # a measure of how good the model is. lower the better.\n",
    "print('\\nCoherence Score: ', coherence_lda)"
   ]
  },
  {
   "cell_type": "markdown",
   "metadata": {},
   "source": [
    "##### Visualize the topics"
   ]
  },
  {
   "cell_type": "code",
   "execution_count": 24,
   "metadata": {},
   "outputs": [],
   "source": [
    "# import pyLDAvis.gensim\n",
    "# import pyLDAvis\n",
    "# import warnings\n",
    "\n",
    "# # warnings.filterwarnings('ignore', category=FutureWarning)\n",
    "\n",
    "# pyLDAvis.enable_notebook()\n",
    "# lda_visual = pyLDAvis.gensim.prepare(ldamodel, corpus, dictionary)\n",
    "# lda_visual"
   ]
  },
  {
   "cell_type": "markdown",
   "metadata": {},
   "source": [
    "##### Find the optimal number of topics for LDA"
   ]
  },
  {
   "cell_type": "code",
   "execution_count": 25,
   "metadata": {},
   "outputs": [
    {
     "name": "stdout",
     "output_type": "stream",
     "text": [
      "[1, 2, 3, 4, 5, 6, 7, 8, 9, 10, 11, 12, 13, 14, 15]\n"
     ]
    }
   ],
   "source": [
    "num_topics = list(range(16)[1:])\n",
    "num_keywords = 10\n",
    "chunk_size = len(corpus)\n",
    "\n",
    "ldamodel_list = {}\n",
    "ldamodel_coherences = {}\n",
    "lda_topics = {}\n",
    "lda = gensim.models.ldamodel.LdaModel # Instantiate LDA model\n",
    "for i in num_topics:\n",
    "    ldamodel_list[i] = lda(corpus=corpus, id2word=dictionary, num_topics=ntopics, update_every=1, chunksize=100, passes=10, alpha='auto', random_state=42, per_word_topics=True)\n",
    "    shown_topics = ldamodel_list[i].show_topics(num_topics=num_topics, num_words=num_keywords, formatted=False)\n",
    "    lda_topics[i] = [[word[0] for word in topic[1]] for topic in shown_topics]\n",
    "    ldamodel_coherences = [CoherenceModel(model=ldamodel_list[i], texts=corpus, dictionary=dictionary, coherence='c_v').get_coherence() for i in num_topics[:-1]]"
   ]
  },
  {
   "cell_type": "code",
   "execution_count": 69,
   "metadata": {},
   "outputs": [],
   "source": [
    "def compute_coherence(corpus, dictionary, texts, chunk_size, start, limit, step):\n",
    "    ldamodels = {}\n",
    "    ldamodels_coherence = {}\n",
    "    topics_range = list(range(start, limit, step)) # create number of topics range list\n",
    "    lda = gensim.models.ldamodel.LdaModel # instantiate LDA model\n",
    "    \n",
    "    for i in range(len(topics_range)):\n",
    "        num_topics = topics_range[i]\n",
    "        ldamodels[i] = lda(corpus=corpus, id2word=dictionary, num_topics=num_topics, update_every=1, chunksize=chunk_size, passes=10, alpha='auto', random_state=42, per_word_topics=True)\n",
    "        coherencemodel = CoherenceModel(model=ldamodels[i], texts=texts, dictionary=dictionary, coherence='c_v')\n",
    "        ldamodels_coherence[i] = coherencemodel.get_coherence()\n",
    "    \n",
    "    return ldamodels, ldamodels_coherence"
   ]
  },
  {
   "cell_type": "code",
   "execution_count": 109,
   "metadata": {},
   "outputs": [],
   "source": [
    "n_start=2\n",
    "n_limit=15\n",
    "n_step=1\n",
    "\n",
    "chunk_size = len(corpus)\n",
    "model_list, coherence_values = compute_coherence(corpus=corpus, dictionary=dictionary, \n",
    "                                                 texts=data_lemmatized, chunk_size=chunk_size, \n",
    "                                                 start=n_start, limit=n_limit, step=n_step)"
   ]
  },
  {
   "cell_type": "code",
   "execution_count": 110,
   "metadata": {},
   "outputs": [
    {
     "data": {
      "image/png": "[encoded data removed]",
      "text/plain": [
       "<Figure size 432x288 with 1 Axes>"
      ]
     },
     "metadata": {
      "needs_background": "light"
     },
     "output_type": "display_data"
    }
   ],
   "source": [
    "x = range(n_start, n_limit, n_step)\n",
    "y = [v for k, v in coherence_values.items()]\n",
    "\n",
    "plt.plot(x,y)\n",
    "plt.xlabel('Number of Topics')\n",
    "plt.ylabel('Coherence Score')\n",
    "plt.legend(('coh'),loc='best')\n",
    "plt.show()"
   ]
  },
  {
   "cell_type": "code",
   "execution_count": 72,
   "metadata": {},
   "outputs": [
    {
     "data": {
      "text/plain": [
       "{0: <gensim.models.ldamodel.LdaModel at 0x7fdc2a9c8af0>,\n",
       " 1: <gensim.models.ldamodel.LdaModel at 0x7fdc75882d30>,\n",
       " 2: <gensim.models.ldamodel.LdaModel at 0x7fdc2a13ac10>,\n",
       " 3: <gensim.models.ldamodel.LdaModel at 0x7fdc2b2af2e0>,\n",
       " 4: <gensim.models.ldamodel.LdaModel at 0x7fdc36160f10>,\n",
       " 5: <gensim.models.ldamodel.LdaModel at 0x7fdc2c9e3d90>,\n",
       " 6: <gensim.models.ldamodel.LdaModel at 0x7fdc2beb67f0>,\n",
       " 7: <gensim.models.ldamodel.LdaModel at 0x7fdc2b2afb20>}"
      ]
     },
     "execution_count": 72,
     "metadata": {},
     "output_type": "execute_result"
    }
   ],
   "source": [
    "plt.figure(figsize=(20,10))\n",
    "# ax = sns.lineplot(x=num_topics[:-1], y=mean_stabilities, label='Average Topic Overlap')\n",
    "ax = sns.lineplot(x=num_topics[:-1], y=coherences, label='Topic Coherence')\n",
    "\n",
    "ax.axvline(x=ideal_topic_num, label='Ideal Number of Topics', color='black')\n",
    "ax.axvspan(xmin=ideal_topic_num - 1, xmax=ideal_topic_num + 1, alpha=0.5, facecolor='grey')\n",
    "\n",
    "y_max = max(max(mean_stabilities), max(coherences)) + (0.10 * max(max(mean_stabilities), max(coherences)))\n",
    "ax.set_ylim([0, y_max])\n",
    "ax.set_xlim([1, num_topics[-1]-1])\n",
    "                \n",
    "ax.axes.set_title('Model Metrics per Number of Topics', fontsize=25)\n",
    "ax.set_ylabel('Metric Level', fontsize=20)\n",
    "ax.set_xlabel('Number of Topics', fontsize=20)\n",
    "plt.legend(fontsize=20)\n",
    "plt.show()  "
   ]
  }
 ],
 "metadata": {
  "kernelspec": {
   "display_name": "Python 3",
   "language": "python",
   "name": "python3"
  },
  "language_info": {
   "codemirror_mode": {
    "name": "ipython",
    "version": 3
   },
   "file_extension": ".py",
   "mimetype": "text/x-python",
   "name": "python",
   "nbconvert_exporter": "python",
   "pygments_lexer": "ipython3",
   "version": "3.8.3"
  }
 },
 "nbformat": 4,
 "nbformat_minor": 4
}
