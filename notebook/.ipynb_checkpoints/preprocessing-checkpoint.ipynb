{
 "cells": [
  {
   "cell_type": "code",
   "execution_count": null,
   "metadata": {
    "jupyter": {
     "source_hidden": true
    }
   },
   "outputs": [],
   "source": [
    "# dataset_review_meta.head()\n",
    "# B07Q84DPZH Motorola I265 phone\n",
    "\n",
    "# dataset_review_meta[dataset_review_meta['asin']=='B07Q84DPZH']\n",
    "# dataset_review_meta.sort_values(by='totalReviews', ascending=False)\n",
    "# df_review_text = dataset_review.query('asin == \"B07Q84DPZH\"').iloc[:300,[6]]\n",
    "\n",
    "# df_review_text['review_text'] = df_review_text['body'].str.lower()\n",
    "# df_review_text['text_length'] = df_review_text['body'].str.split().str.len()\n",
    "# df_review_text = df_review_text.drop_duplicates('body')\n",
    "# df_review_text = df_review_text.dropna(subset=['body']).reset_index(drop=True)\n",
    "# df_review_text.shape\n",
    "\n",
    "# df_review_text.sort_values(by='text_length', ascending=False)\n",
    "# df_review_text.query('text_length < 5')"
   ]
  },
  {
   "cell_type": "code",
   "execution_count": 2,
   "metadata": {},
   "outputs": [],
   "source": [
    "import pandas as pd\n",
    "pd.set_option('display.max_colwidth', None)\n",
    "\n",
    "dataset_review_meta = pd.read_csv('../data/amazon-cell-phone-review-meta.csv')\n",
    "dataset_review = pd.read_csv('../data/amazon-cell-phone-reviews.csv')\n",
    "dataset_review.columns = map(str.lower, dataset_review.columns)"
   ]
  },
  {
   "cell_type": "code",
   "execution_count": 3,
   "metadata": {},
   "outputs": [],
   "source": [
    "dataset_review = dataset_review.dropna(subset=['body']) # drop empty or null rows\n",
    "dataset_review = dataset_review.drop_duplicates('body') # drop duplicate rows\n",
    "dataset_review = dataset_review.groupby('asin').filter(lambda x:len(x) > 780) # get items length over n amount\n",
    "dataset_review = dataset_review.query('verified == True') # consider ony verified reviews\n",
    "dataset_review = dataset_review[dataset_review['body'].str.split().str.len() > 5] # remove review length less than 5\n",
    "df_cleansed_review = dataset_review[{'body', 'asin'}].rename(columns={'asin': 'item_id', 'body': 'review_text'}, errors='raise').copy().reset_index(drop=True)"
   ]
  },
  {
   "cell_type": "code",
   "execution_count": 4,
   "metadata": {},
   "outputs": [],
   "source": [
    "import re\n",
    "import json\n",
    "import spacy \n",
    "from gensim.parsing.preprocessing import strip_tags, strip_non_alphanum, strip_multiple_whitespaces, strip_short\n",
    "nlp = spacy.load('en', disable=['ner', 'parser'])\n",
    "\n",
    "with open('../data/contractions.json') as file:\n",
    "    contraction_dict = {key.lower(): value.lower() for key, value in json.load(file).items()}\n",
    "\n",
    "re_pattern = re.compile('({})'.format('|'.join(contraction_dict.keys())), flags=re.IGNORECASE)\n",
    "\n",
    "def expand_contractions(text, pattern=re_pattern, contraction_map=contraction_dict):\n",
    "    '''\n",
    "    this function will expands the contraction of provided text by matching the pattern given\n",
    "        text - sentence, phrase or word for expansion\n",
    "        patter - regex pattern\n",
    "        contraction_map - contraction mapping dictionary\n",
    "    '''\n",
    "    def replace(match):\n",
    "        return contraction_map[match.group(0)]\n",
    "    return pattern.sub(replace, text)\n",
    "\n",
    "def preprocess(text):\n",
    "    ''' \n",
    "    this function does simple text pre-processing such as, \n",
    "        - remove html tags\n",
    "        - remove non-alphabetic \n",
    "        - remove punctuation\n",
    "        - lowercase\n",
    "    '''\n",
    "    step_process_text = strip_tags(str(text))\n",
    "    step_process_text = strip_non_alphanum(step_process_text)\n",
    "#     step_process_text = remove_stopwords(step_process_text)\n",
    "#     step_process_text = strip_multiple_whitespaces(step_process_text)\n",
    "    step_process_text = strip_short(step_process_text, minsize=5)\n",
    "    processed_text = step_process_text.strip()\n",
    "    return processed_text\n",
    "\n",
    "def lemmatize(text):\n",
    "    ''' \n",
    "    this function does text lemmatization on pre-processed text; \n",
    "        - remove stop words\n",
    "        - lemmatizaation\n",
    "    '''\n",
    "    lemmatized_text = \" \".join([token.lemma_ for token in nlp(text) if not token.is_stop])\n",
    "    return lemmatized_text"
   ]
  },
  {
   "cell_type": "code",
   "execution_count": 5,
   "metadata": {},
   "outputs": [],
   "source": [
    "# df_cleansed_review['review_text'] = df_cleansed_review['review_text'].str.lower() # lowercase\n",
    "df_cleansed_review['review_text_cont'] = df_cleansed_review['review_text'].str.lower().apply(lambda x: expand_contractions(x)) # expand contraction\n",
    "\n",
    "preprocess_text = (preprocess(row) for row in df_cleansed_review['review_text_cont'])\n",
    "lemmatize_text = [lemmatize(str(doc)) for doc in nlp.pipe(preprocess_text, batch_size=100, n_threads=-1)]"
   ]
  },
  {
   "cell_type": "code",
   "execution_count": 6,
   "metadata": {},
   "outputs": [
    {
     "data": {
      "text/plain": [
       "['phone thing frustrate picture indicate carrier phone stuff mobile customer picture think incompatibility issue mobile phone program probably techie nervous navigation example come talk go charge mobile trouble get email time frequently have difficulty get connection problem cheap mobile phone google texting picture issue clearly have issue fix techie identify work have problem unlocked lumia spend hour phone nokia figure mobile people phone nokia issue service issue phone incoming call straight regular text call nokia figure unlocked nokia mobile problem return cost return beautiful phone feature unlocked phone mobile probably hard contract',\n",
       " 'phone saturday review customer review youtube phone demonstration issue course tmobile play weekend work great house try internet picture tmobile plan unlocked phone hand phone course find tmobile website series code try wait vacation figure phone send picture email camera feature great connection pretty think world message survive hopefully figure completely happy',\n",
       " 'phone week think write review star application constantly tell phone connect phone review phone solid great phone google store phone say phone offer phone actually game useful bunch space phone icon large start small thing start screen phone problem oxidation people problem phone storage device music phone music player speaker decent battery long phone friend iphone buy phone completely honest happy phone highly recommend look solid phone phone call course beautiful picture respond quickly stick charger night go phone review people say picture camera completely honest talk picture phone take little store light little special effect picture flashlight calendar build phone functional phone go people canis iphone craze quickly window phone think phone iphone shame people iphone ask phone iphone thing people thing figure anybody update phone phone solid give music player application connect computer music phone look get local store touch fiddle figure']"
      ]
     },
     "execution_count": 6,
     "metadata": {},
     "output_type": "execute_result"
    }
   ],
   "source": [
    "lemmatize_text[:3]"
   ]
  }
 ],
 "metadata": {
  "kernelspec": {
   "display_name": "Python 3",
   "language": "python",
   "name": "python3"
  },
  "language_info": {
   "codemirror_mode": {
    "name": "ipython",
    "version": 3
   },
   "file_extension": ".py",
   "mimetype": "text/x-python",
   "name": "python",
   "nbconvert_exporter": "python",
   "pygments_lexer": "ipython3",
   "version": "3.8.3"
  }
 },
 "nbformat": 4,
 "nbformat_minor": 4
}
