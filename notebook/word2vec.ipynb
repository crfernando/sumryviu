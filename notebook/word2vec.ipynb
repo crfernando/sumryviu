{
 "cells": [
  {
   "cell_type": "code",
   "execution_count": 1,
   "metadata": {},
   "outputs": [],
   "source": [
    "import logging\n",
    "logging.basicConfig(format='%(levelname)s %(asctime)s: %(message)s', datefmt='%H:%M:%S', level=logging.INFO)"
   ]
  },
  {
   "cell_type": "code",
   "execution_count": 2,
   "metadata": {},
   "outputs": [],
   "source": [
    "import spacy \n",
    "nlp = spacy.load('en', disable=['ner', 'parser'])"
   ]
  },
  {
   "cell_type": "code",
   "execution_count": 3,
   "metadata": {},
   "outputs": [],
   "source": [
    "from gensim.parsing.preprocessing import strip_tags, strip_non_alphanum, strip_multiple_whitespaces, strip_short\n",
    "\n",
    "def preprocess(text):\n",
    "    ''' \n",
    "    this function does simple text pre-processing such as, \n",
    "        - remove html tags\n",
    "        - remove non-alphabetic \n",
    "        - remove punctuation\n",
    "        - lowercase\n",
    "    '''\n",
    "    step_process_text = strip_tags(str(text))\n",
    "    step_process_text = strip_non_alphanum(step_process_text)\n",
    "#     step_process_text = remove_stopwords(step_process_text)\n",
    "#     step_process_text = strip_multiple_whitespaces(step_process_text)\n",
    "    step_process_text = strip_short(step_process_text, minsize=5)\n",
    "    processed_text = step_process_text.strip().lower()\n",
    "    return processed_text\n",
    "\n",
    "def lemmatize(text):\n",
    "    ''' \n",
    "    this function does text lemmatization on pre-processed text; \n",
    "        - remove stop words\n",
    "        - lemmatizaation\n",
    "    '''\n",
    "    lemmatized_text = \" \".join([token.lemma_ for token in nlp(text) if not token.is_stop])\n",
    "    return lemmatized_text"
   ]
  },
  {
   "cell_type": "code",
   "execution_count": 5,
   "metadata": {},
   "outputs": [],
   "source": [
    "import pandas as pd\n",
    "pd.set_option('display.max_colwidth', None)\n",
    "\n",
    "dataset_review_meta = pd.read_csv('/mnt/d/data/amazon-review-data/amazon-cell-phone-review-meta.csv', nrows=5)\n",
    "dataset_review = pd.read_csv('/mnt/d/data/amazon-review-data/amazon-cell-phone-reviews.csv', nrows=5)\n",
    "dataset_review.columns = map(str.lower, dataset_review.columns)"
   ]
  },
  {
   "cell_type": "code",
   "execution_count": 6,
   "metadata": {},
   "outputs": [],
   "source": [
    "preprocess_text = (preprocess(row) for row in dataset_review['body'])\n",
    "lemmatize_text = [lemmatize(str(doc)) for doc in nlp.pipe(preprocess_text, batch_size=100, n_threads=-1)]"
   ]
  },
  {
   "cell_type": "code",
   "execution_count": 8,
   "metadata": {},
   "outputs": [
    {
     "data": {
      "text/html": [
       "<div>\n",
       "<style scoped>\n",
       "    .dataframe tbody tr th:only-of-type {\n",
       "        vertical-align: middle;\n",
       "    }\n",
       "\n",
       "    .dataframe tbody tr th {\n",
       "        vertical-align: top;\n",
       "    }\n",
       "\n",
       "    .dataframe thead th {\n",
       "        text-align: right;\n",
       "    }\n",
       "</style>\n",
       "<table border=\"1\" class=\"dataframe\">\n",
       "  <thead>\n",
       "    <tr style=\"text-align: right;\">\n",
       "      <th></th>\n",
       "      <th>lemmatize_text</th>\n",
       "    </tr>\n",
       "  </thead>\n",
       "  <tbody>\n",
       "    <tr>\n",
       "      <th>0</th>\n",
       "      <td>samsung awhile absolute review detect stupid thing finally nokia phone buy garage wonder cheap take forever scroll endlessly usually phone number category simply press silent vibrate class ring immediately silence thing remember silent learn mission break nail process damage reason phone start give problem succeed open button big vibration strong reception shabby elevator remarkable consider phone service simply put pocket compare samsung phone work tone phone actually charge quickly great battery doesn potatoe phone convos bright large screen customize scroll purple orange overall phone serve purpose definitely pale comparison phone come sprint great</td>\n",
       "    </tr>\n",
       "    <tr>\n",
       "      <th>1</th>\n",
       "      <td>software issue nokia sprint phone messaging capability sprint system software patch come month spend sprint award win customer service admit problem nokia design phone incoming message retrieve quickly view offline provider sprint like people server connected burn minute check inbox compose reply sprint server respond innovation money make fine</td>\n",
       "    </tr>\n",
       "    <tr>\n",
       "      <th>2</th>\n",
       "      <td>great reliable phone purchase phone samsung easily comprehendable speed dialing available number voice dialing feature take long speed dialing thing bother game nokia take snake phone skydive bowl tennis ringer feature available choose different ringer person call ringtone available online download phone pretty stuck vibrate ringtone regular polyphonic tone cover reasonable price range</td>\n",
       "    </tr>\n",
       "    <tr>\n",
       "      <th>3</th>\n",
       "      <td>phone expect price receive phone little month receive accessory suppose phone company tell couple week receive shortly phone talk make phone call</td>\n",
       "    </tr>\n",
       "    <tr>\n",
       "      <th>4</th>\n",
       "      <td>phone great purpose offer buy not picture jaket super store employee mean barely close snap case dirty clear casing look dirty charge</td>\n",
       "    </tr>\n",
       "  </tbody>\n",
       "</table>\n",
       "</div>"
      ],
      "text/plain": [
       "                                                                                                                                                                                                                                                                                                                                                                                                                                                                                                                                                                                                                                                                        lemmatize_text\n",
       "0  samsung awhile absolute review detect stupid thing finally nokia phone buy garage wonder cheap take forever scroll endlessly usually phone number category simply press silent vibrate class ring immediately silence thing remember silent learn mission break nail process damage reason phone start give problem succeed open button big vibration strong reception shabby elevator remarkable consider phone service simply put pocket compare samsung phone work tone phone actually charge quickly great battery doesn potatoe phone convos bright large screen customize scroll purple orange overall phone serve purpose definitely pale comparison phone come sprint great\n",
       "1                                                                                                                                                                                                                                                                                                                           software issue nokia sprint phone messaging capability sprint system software patch come month spend sprint award win customer service admit problem nokia design phone incoming message retrieve quickly view offline provider sprint like people server connected burn minute check inbox compose reply sprint server respond innovation money make fine\n",
       "2                                                                                                                                                                                                                                                                                 great reliable phone purchase phone samsung easily comprehendable speed dialing available number voice dialing feature take long speed dialing thing bother game nokia take snake phone skydive bowl tennis ringer feature available choose different ringer person call ringtone available online download phone pretty stuck vibrate ringtone regular polyphonic tone cover reasonable price range\n",
       "3                                                                                                                                                                                                                                                                                                                                                                                                                                                                                                                                    phone expect price receive phone little month receive accessory suppose phone company tell couple week receive shortly phone talk make phone call\n",
       "4                                                                                                                                                                                                                                                                                                                                                                                                                                                                                                                                                phone great purpose offer buy not picture jaket super store employee mean barely close snap case dirty clear casing look dirty charge"
      ]
     },
     "execution_count": 8,
     "metadata": {},
     "output_type": "execute_result"
    }
   ],
   "source": [
    "df = pd.DataFrame({'lemmatize_text' : lemmatize_text})\n",
    "df = df.dropna()\n",
    "df"
   ]
  },
  {
   "cell_type": "code",
   "execution_count": 45,
   "metadata": {},
   "outputs": [
    {
     "name": "stderr",
     "output_type": "stream",
     "text": [
      "INFO 16:00:01: collecting all words and their counts\n",
      "INFO 16:00:01: PROGRESS: at sentence #0, processed 0 words and 0 word types\n",
      "INFO 16:00:01: PROGRESS: at sentence #1, processed 93 words and 171 word types\n",
      "INFO 16:00:01: PROGRESS: at sentence #2, processed 142 words and 253 word types\n",
      "INFO 16:00:01: PROGRESS: at sentence #3, processed 195 words and 336 word types\n",
      "INFO 16:00:01: PROGRESS: at sentence #4, processed 217 words and 368 word types\n",
      "INFO 16:00:01: collected 405 word types from a corpus of 239 words (unigram + bigrams) and 5 sentences\n",
      "INFO 16:00:01: using 405 counts as vocab in Phrases<0 vocab, min_count=2, threshold=1, max_vocab_size=40000000>\n",
      "INFO 16:00:01: source_vocab length 405\n",
      "INFO 16:00:01: Phraser built with 0 phrasegrams\n"
     ]
    }
   ],
   "source": [
    "from gensim.models.phrases import Phrases, Phraser\n",
    "sent = [row.split() for row in df['lemmatize_text']]\n",
    "phrases = Phrases(sent, min_count=2, threshold=1, progress_per=1)\n",
    "bigram = Phraser(phrases)"
   ]
  },
  {
   "cell_type": "code",
   "execution_count": 50,
   "metadata": {},
   "outputs": [
    {
     "data": {
      "text/plain": [
       "4"
      ]
     },
     "execution_count": 50,
     "metadata": {},
     "output_type": "execute_result"
    }
   ],
   "source": [
    "import multiprocessing\n",
    "from gensim.models import Word2Vec\n",
    "\n",
    "cores = multiprocessing.cpu_count() # counts number cpu in computer"
   ]
  },
  {
   "cell_type": "code",
   "execution_count": 71,
   "metadata": {},
   "outputs": [
    {
     "name": "stdout",
     "output_type": "stream",
     "text": [
      "['phone', 'sprint', 'nokia', 'great', 'samsung', 'thing', 'take', 'dialing', 'available', 'receive']\n"
     ]
    }
   ],
   "source": [
    "from collections import defaultdict\n",
    "\n",
    "word_frequency = defaultdict(int)\n",
    "for sent in sentences:\n",
    "    for i in sent:\n",
    "        word_frequency[i] += 1\n",
    "\n",
    "print(sorted(word_frequency, key=word_frequency.get, reverse=True)[:10])"
   ]
  },
  {
   "cell_type": "code",
   "execution_count": 73,
   "metadata": {},
   "outputs": [],
   "source": [
    "'''\n",
    "    min_count - words to be ingnored with total absolute frequency lower than this\n",
    "    window - maximum distance between the current and predicted word within a sentence\n",
    "    size - dimensionality of the feature vectors\n",
    "    sample - threshold for configuring which higher-frequency words are randomly downsampled\n",
    "    alpha - initial learning rate - (0.01, 0.05)\n",
    "    min_alpha - learning rate will linearly drop to min_alpha as training progresses\n",
    "    negative - negative sampling rate. If set to 0, no negative sampling is used.\n",
    "    workers - number of worker threads to train the model\n",
    "'''\n",
    "wordvec_model = Word2Vec(min_count=20, window=2, size=300, sample=6e-5, alpha=0.03, min_alpha=0.0007, negative=20, workers=cores-1)"
   ]
  }
 ],
 "metadata": {
  "kernelspec": {
   "display_name": "Python 3",
   "language": "python",
   "name": "python3"
  },
  "language_info": {
   "codemirror_mode": {
    "name": "ipython",
    "version": 3
   },
   "file_extension": ".py",
   "mimetype": "text/x-python",
   "name": "python",
   "nbconvert_exporter": "python",
   "pygments_lexer": "ipython3",
   "version": "3.8.3"
  }
 },
 "nbformat": 4,
 "nbformat_minor": 4
}
