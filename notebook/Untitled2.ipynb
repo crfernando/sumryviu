{
 "cells": [
  {
   "cell_type": "code",
   "execution_count": null,
   "metadata": {},
   "outputs": [],
   "source": [
    "text = ['the phone have be great for every purpose offer except the day buy could not get the case off can take the case off to put own picture in the jaket which be super cool but when take back to the store an employee say be mean to be hard to get off well could barely even get off come close to snap the casing in half be never able to get off after that which be not that big of deal but get dirty under the clear casing and look really dirty now make sure can get case on and off oh and have to charge all off the time']"
   ]
  }
 ],
 "metadata": {
  "kernelspec": {
   "display_name": "Python 3",
   "language": "python",
   "name": "python3"
  },
  "language_info": {
   "codemirror_mode": {
    "name": "ipython",
    "version": 3
   },
   "file_extension": ".py",
   "mimetype": "text/x-python",
   "name": "python",
   "nbconvert_exporter": "python",
   "pygments_lexer": "ipython3",
   "version": "3.8.3"
  }
 },
 "nbformat": 4,
 "nbformat_minor": 4
}
