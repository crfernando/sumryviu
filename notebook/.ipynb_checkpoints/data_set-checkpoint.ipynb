{
 "cells": [
  {
   "cell_type": "code",
   "execution_count": null,
   "metadata": {},
   "outputs": [],
   "source": [
    "import pandas as pd\n",
    "import os\n",
    "pd.set_option('display.max_colwidth', None)"
   ]
  },
  {
   "cell_type": "code",
   "execution_count": null,
   "metadata": {},
   "outputs": [],
   "source": [
    "file_path = os.path.join('/mnt','d','data', 'amazon-review-data')\n",
    "print(file_path)\n",
    "\n",
    "for filepath, _, filenames in os.walk(file_path):\n",
    "    for filename in filenames:\n",
    "        print(os.path.join(filepath, filename))"
   ]
  },
  {
   "cell_type": "code",
   "execution_count": null,
   "metadata": {},
   "outputs": [],
   "source": [
    "# /mnt/d/data/amazon-review-data/dataset_en_dev.json\n",
    "dataset_en_dev = pd.read_csv('/mnt/d/data/amazon-review-data/amazon_reviews_us_Mobile_Electronics_v1_00.tsv', sep='\\t', header=0, nrows=35000)\n",
    "dataset_en_dev.columns"
   ]
  },
  {
   "cell_type": "code",
   "execution_count": null,
   "metadata": {},
   "outputs": [],
   "source": [
    "# dataset_en_dev.query('product_title.str.contains(r\"Bluetooth Speaker(?!$)\")', engine='python')[['product_parent', 'product_title', 'review_body', 'product_id', 'star_rating']]"
   ]
  },
  {
   "cell_type": "code",
   "execution_count": 74,
   "metadata": {},
   "outputs": [
    {
     "name": "stdout",
     "output_type": "stream",
     "text": [
      "<class 'pandas.core.frame.DataFrame'>\n",
      "Int64Index: 42 entries, 1945 to 34848\n",
      "Data columns (total 15 columns):\n",
      " #   Column             Non-Null Count  Dtype \n",
      "---  ------             --------------  ----- \n",
      " 0   marketplace        42 non-null     object\n",
      " 1   customer_id        42 non-null     int64 \n",
      " 2   review_id          42 non-null     object\n",
      " 3   product_id         42 non-null     object\n",
      " 4   product_parent     42 non-null     int64 \n",
      " 5   product_title      42 non-null     object\n",
      " 6   product_category   42 non-null     object\n",
      " 7   star_rating        42 non-null     int64 \n",
      " 8   helpful_votes      42 non-null     int64 \n",
      " 9   total_votes        42 non-null     int64 \n",
      " 10  vine               42 non-null     object\n",
      " 11  verified_purchase  42 non-null     object\n",
      " 12  review_headline    42 non-null     object\n",
      " 13  review_body        42 non-null     object\n",
      " 14  review_date        42 non-null     object\n",
      "dtypes: int64(5), object(10)\n",
      "memory usage: 5.2+ KB\n"
     ]
    }
   ],
   "source": [
    "dataset_en_dev_sample = dataset_en_dev[dataset_en_dev['product_id'] == 'B009AJIU1S']\n",
    "dataset_en_dev_sample.info()"
   ]
  }
 ],
 "metadata": {
  "kernelspec": {
   "display_name": "Python 3",
   "language": "python",
   "name": "python3"
  },
  "language_info": {
   "codemirror_mode": {
    "name": "ipython",
    "version": 3
   },
   "file_extension": ".py",
   "mimetype": "text/x-python",
   "name": "python",
   "nbconvert_exporter": "python",
   "pygments_lexer": "ipython3",
   "version": "3.8.3"
  }
 },
 "nbformat": 4,
 "nbformat_minor": 4
}
