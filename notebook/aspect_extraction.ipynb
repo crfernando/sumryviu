{
 "cells": [
  {
   "cell_type": "code",
   "execution_count": 118,
   "metadata": {},
   "outputs": [],
   "source": [
    "import pandas as pd\n",
    "import spacy\n",
    "import gensim\n",
    "import gensim.corpora as corpora\n",
    "from gensim.utils import simple_preprocess\n",
    "from gensim.models import CoherenceModel\n",
    "\n",
    "nlp = spacy.load(\"en\")\n",
    "\n",
    "pd.set_option('display.max_colwidth', None)"
   ]
  },
  {
   "cell_type": "raw",
   "metadata": {},
   "source": [
    "review_text = [\"After few years of use I don’t feel the phone is worth it. Battery dies much quicker and OS is slow. Apple is asking me to pay full replacement price for service. I guess I’m going to buy new iPhone 12 when it’s out.\"\n",
    "              , \"This iPhone came in almost-new condition. It also came with its own changer, which was a plus. However, the battery health was at 80%. After a month worth of use, it is down to 76%. While I am careful to charge the battery and disconnect it as soon as it reaches 100% charge, still, the battery health for an iPhone 6S cannot be expected to be any higher, considering the years of use any pre-owned phone might have had. A good suggestion might be to replace the old battery with a new one. Definitely, seller is not to be blamed for battery's condition.\"]"
   ]
  },
  {
   "cell_type": "code",
   "execution_count": 119,
   "metadata": {},
   "outputs": [],
   "source": [
    "def preprocess(text):\n",
    "    ''' \n",
    "    this function does simple text pre-processing such as, \n",
    "        - remove stop words\n",
    "        - remove punctuation\n",
    "        - convert to lowercase\n",
    "        - lemmatizaation\n",
    "    '''\n",
    "    preprocessed_text = \" \".join(simple_preprocess(text))\n",
    "    preprocessed_text_doc = nlp(preprocessed_text)\n",
    "    clean_text = \" \".join([token.lemma_.strip().lower() for token in preprocessed_text_doc if token.lemma_ != \"-PRON-\"])\n",
    "    return clean_text"
   ]
  },
  {
   "cell_type": "code",
   "execution_count": 120,
   "metadata": {},
   "outputs": [],
   "source": [
    "def chunk_noun_phrases(text):\n",
    "    ''' \n",
    "    this function returns the noun phrase chunk\n",
    "    '''\n",
    "    preprocessed_doc = nlp(preprocess(text))\n",
    "    return [phrase.text for phrase in preprocessed_doc.noun_chunks]"
   ]
  },
  {
   "cell_type": "raw",
   "metadata": {},
   "source": [
    "noun_phrases = chunk_noun_phrases(str(review_text))\n",
    "print(noun_phrases)"
   ]
  },
  {
   "cell_type": "code",
   "execution_count": 121,
   "metadata": {},
   "outputs": [],
   "source": [
    "data = pd.read_csv('../data/B005SUHPO6.csv')\n",
    "data.columns = map(str.lower, data.columns)\n",
    "data_reviews = data[['reviewtext']]\n",
    "sample = data_reviews.sample(15)"
   ]
  },
  {
   "cell_type": "code",
   "execution_count": 122,
   "metadata": {},
   "outputs": [],
   "source": [
    "sample['preprocess_text'] = sample['reviewtext'].map(preprocess)\n",
    "sample['noun_phrase'] = sample['reviewtext'].map(chunk_noun_phrases)\n",
    "sample_noun_phrase = sample['noun_phrase'].values.tolist()\n",
    "# sample_noun_phrase[0]"
   ]
  },
  {
   "cell_type": "code",
   "execution_count": 152,
   "metadata": {},
   "outputs": [],
   "source": [
    "corpus_dictionary = corpora.Dictionary(sample_noun_phrase)\n",
    "corpus_dictionary.filter_extremes(no_below=2)\n",
    "processed_corpus = [corpus_dictionary.doc2bow(doc) for doc in sample_noun_phrase]"
   ]
  },
  {
   "cell_type": "code",
   "execution_count": 153,
   "metadata": {},
   "outputs": [],
   "source": [
    "number_of_topics = 7\n",
    "lda = gensim.models.ldamodel.LdaModel\n",
    "lda_model = lda(corpus=processed_corpus, id2word=corpus_dictionary, num_topics=number_of_topics, passes=3)"
   ]
  },
  {
   "cell_type": "code",
   "execution_count": 154,
   "metadata": {},
   "outputs": [],
   "source": [
    "lda_model_perplexity = lda_model.log_perplexity(processed_corpus)\n",
    "coherence_model = CoherenceModel(model=lda_model, texts=sample_noun_phrase, dictionary=corpus_dictionary, coherence='c_v')\n",
    "lda_model_coherence = coherence_model.get_coherence()"
   ]
  },
  {
   "cell_type": "code",
   "execution_count": 155,
   "metadata": {},
   "outputs": [
    {
     "name": "stdout",
     "output_type": "stream",
     "text": [
      "\n",
      "Perplexit: -3.126320092138379 \n",
      "Coherence Value: 0.4258567930689562\n"
     ]
    }
   ],
   "source": [
    "print('\\nPerplexit: {} \\nCoherence Value: {}'.format(lda_model_perplexity, lda_model_coherence))"
   ]
  },
  {
   "cell_type": "code",
   "execution_count": 156,
   "metadata": {},
   "outputs": [
    {
     "name": "stdout",
     "output_type": "stream",
     "text": [
      "Topic 0: \n",
      "Words: 0.348*\"the holster\" + 0.251*\"the phone\" + 0.192*\"the otterbox\" + 0.056*\"iphone\" + 0.056*\"phone\" + 0.056*\"don\" + 0.007*\"the store\" + 0.007*\"real otterbox\" + 0.007*\"time\" + 0.007*\"this case\"\n",
      "Topic 1: \n",
      "Words: 0.228*\"phone\" + 0.158*\"this case\" + 0.158*\"iphone\" + 0.158*\"time\" + 0.158*\"the phone\" + 0.020*\"the store\" + 0.020*\"the otterbox\" + 0.020*\"real otterbox\" + 0.020*\"the case\" + 0.020*\"the holster\"\n",
      "Topic 2: \n",
      "Words: 0.421*\"time\" + 0.053*\"phone\" + 0.053*\"real otterbox\" + 0.053*\"the otterbox\" + 0.053*\"the case\" + 0.053*\"the store\" + 0.053*\"the phone\" + 0.053*\"iphone\" + 0.053*\"this case\" + 0.053*\"the color\"\n",
      "Topic 3: \n",
      "Words: 0.083*\"the store\" + 0.083*\"the case\" + 0.083*\"phone\" + 0.083*\"the otterbox\" + 0.083*\"this case\" + 0.083*\"time\" + 0.083*\"iphone\" + 0.083*\"real otterbox\" + 0.083*\"the phone\" + 0.083*\"the color\"\n",
      "Topic 4: \n",
      "Words: 0.221*\"iphone\" + 0.221*\"this case\" + 0.221*\"the store\" + 0.118*\"the color\" + 0.118*\"real otterbox\" + 0.015*\"phone\" + 0.015*\"the otterbox\" + 0.015*\"the case\" + 0.015*\"time\" + 0.015*\"the phone\"\n",
      "Topic 5: \n",
      "Words: 0.421*\"real otterbox\" + 0.053*\"phone\" + 0.053*\"this case\" + 0.053*\"iphone\" + 0.053*\"the otterbox\" + 0.053*\"the store\" + 0.053*\"the case\" + 0.053*\"time\" + 0.053*\"the phone\" + 0.053*\"the color\"\n",
      "Topic 6: \n",
      "Words: 0.363*\"the case\" + 0.319*\"phone\" + 0.100*\"the color\" + 0.100*\"don\" + 0.031*\"the otterbox\" + 0.013*\"time\" + 0.013*\"real otterbox\" + 0.013*\"the store\" + 0.013*\"iphone\" + 0.013*\"this case\"\n"
     ]
    }
   ],
   "source": [
    "for i, t in lda_model.print_topics(-1):\n",
    "    print('Topic {}: \\nWords: {}'.format(i, t))"
   ]
  },
  {
   "cell_type": "code",
   "execution_count": 157,
   "metadata": {},
   "outputs": [],
   "source": [
    "aspect_word_prob = lda_model.print_topics() # topic-word matrix\n",
    "review_aspect_prob = lda_model[processed_corpus] # document-topic matrix"
   ]
  },
  {
   "cell_type": "code",
   "execution_count": 158,
   "metadata": {},
   "outputs": [
    {
     "data": {
      "text/plain": [
       "[(0, '0.348*\"the holster\" + 0.251*\"the phone\" + 0.192*\"the otterbox\"'),\n",
       " (1, '0.228*\"phone\" + 0.158*\"this case\" + 0.158*\"iphone\"'),\n",
       " (2, '0.421*\"time\" + 0.053*\"phone\" + 0.053*\"real otterbox\"'),\n",
       " (3, '0.083*\"the store\" + 0.083*\"the case\" + 0.083*\"phone\"'),\n",
       " (4, '0.221*\"iphone\" + 0.221*\"this case\" + 0.221*\"the store\"'),\n",
       " (5, '0.421*\"real otterbox\" + 0.053*\"phone\" + 0.053*\"this case\"'),\n",
       " (6, '0.363*\"the case\" + 0.319*\"phone\" + 0.100*\"the color\"')]"
      ]
     },
     "execution_count": 158,
     "metadata": {},
     "output_type": "execute_result"
    }
   ],
   "source": [
    "lda_model.show_topics(num_words=3)"
   ]
  },
  {
   "cell_type": "code",
   "execution_count": 159,
   "metadata": {},
   "outputs": [
    {
     "name": "stdout",
     "output_type": "stream",
     "text": [
      "[(0, 0.07148387), (1, 0.0717331), (2, 0.07142905), (3, 0.07142941), (4, 0.07142871), (5, 0.07142905), (6, 0.57106674)]\n",
      "[(0, 0.9495139)]\n",
      "[(0, 0.07142864), (1, 0.07142874), (2, 0.07142902), (3, 0.07142935), (4, 0.071546674), (5, 0.57130885), (6, 0.07142869)]\n",
      "[(0, 0.047619175), (1, 0.0476929), (2, 0.04761978), (3, 0.047620315), (4, 0.71409404), (5, 0.04761978), (6, 0.04773402)]\n",
      "[(0, 0.01588142), (1, 0.01588998), (2, 0.015873162), (3, 0.015873266), (4, 0.015884012), (5, 0.015873162), (6, 0.904725)]\n",
      "[(0, 0.03572584), (1, 0.03574877), (2, 0.035714738), (3, 0.035715066), (4, 0.78539354), (5, 0.03598766), (6, 0.035714407)]\n",
      "[(0, 0.07142864), (1, 0.07160161), (2, 0.57125396), (3, 0.07142935), (4, 0.0714287), (5, 0.071429014), (6, 0.07142869)]\n",
      "[(0, 0.7142236), (1, 0.047679864), (2, 0.047619335), (3, 0.047619544), (4, 0.047619138), (5, 0.047619335), (6, 0.047619127)]\n",
      "[(0, 0.04764357), (1, 0.04778372), (2, 0.04761948), (3, 0.0476198), (4, 0.71409476), (5, 0.04761948), (6, 0.047619164)]\n",
      "[(0, 0.571412), (1, 0.07142887), (2, 0.07142938), (3, 0.07142998), (4, 0.071428806), (5, 0.07142938), (6, 0.07144151)]\n",
      "[(0, 0.023874264), (1, 0.85687304), (2, 0.023879698), (3, 0.023810064), (4, 0.023905482), (5, 0.023809835), (6, 0.023847561)]\n",
      "[(0, 0.14285715), (1, 0.14285715), (2, 0.14285715), (3, 0.14285715), (4, 0.14285715), (5, 0.14285715), (6, 0.14285715)]\n",
      "[(0, 0.14285715), (1, 0.14285715), (2, 0.14285715), (3, 0.14285715), (4, 0.14285715), (5, 0.14285715), (6, 0.14285715)]\n",
      "[(0, 0.07142865), (1, 0.07142873), (2, 0.07142899), (3, 0.071429305), (4, 0.0714287), (5, 0.07142899), (6, 0.57142663)]\n",
      "[(0, 0.07142871), (1, 0.071428865), (2, 0.07142935), (3, 0.07142992), (4, 0.571425), (5, 0.07142935), (6, 0.071428776)]\n"
     ]
    }
   ],
   "source": [
    "for i in review_aspect_prob:\n",
    "    print(i)"
   ]
  }
 ],
 "metadata": {
  "kernelspec": {
   "display_name": "Python 3",
   "language": "python",
   "name": "python3"
  },
  "language_info": {
   "codemirror_mode": {
    "name": "ipython",
    "version": 3
   },
   "file_extension": ".py",
   "mimetype": "text/x-python",
   "name": "python",
   "nbconvert_exporter": "python",
   "pygments_lexer": "ipython3",
   "version": "3.8.3"
  }
 },
 "nbformat": 4,
 "nbformat_minor": 4
}
