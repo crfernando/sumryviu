{
 "cells": [
  {
   "cell_type": "code",
   "execution_count": 1,
   "metadata": {},
   "outputs": [],
   "source": [
    "import pandas as pd\n",
    "import spacy \n",
    "import gensim\n",
    "import gensim.corpora as corpora\n",
    "from gensim.utils import simple_preprocess\n",
    "\n",
    "pd.set_option('display.max_colwidth', None)\n",
    "nlp = spacy.load('en')"
   ]
  },
  {
   "cell_type": "code",
   "execution_count": 2,
   "metadata": {},
   "outputs": [],
   "source": [
    "dataset_review_meta = pd.read_csv('/mnt/d/data/amazon-review-data/amazon-cell-phone-review-meta.csv', nrows=5)\n",
    "dataset_review = pd.read_csv('/mnt/d/data/amazon-review-data/amazon-cell-phone-reviews.csv', nrows=5)\n",
    "dataset_review.columns = map(str.lower, dataset_review.columns)\n",
    "data_review_text = dataset_review[['body']]\n",
    "sample = data_review_text.sample(5)"
   ]
  },
  {
   "cell_type": "code",
   "execution_count": 3,
   "metadata": {},
   "outputs": [],
   "source": [
    "def preprocess(text):\n",
    "    ''' \n",
    "    this function does simple text pre-processing such as, \n",
    "        - remove stop words\n",
    "        - remove punctuation\n",
    "        - convert to lowercase\n",
    "        - lemmatizaation\n",
    "    '''\n",
    "    preprocessed_text = \" \".join(simple_preprocess(text))\n",
    "    preprocessed_text_doc = nlp(preprocessed_text)\n",
    "    clean_text = \" \".join([token.lemma_.strip().lower() for token in preprocessed_text_doc if token.lemma_ != \"-PRON-\"])\n",
    "    return clean_text\n",
    "\n",
    "def chunk_noun_phrases(text):\n",
    "    ''' \n",
    "    this function returns the noun phrase chunk\n",
    "    '''\n",
    "    preprocessed_doc = nlp(preprocess(text))\n",
    "    return [phrase.text for phrase in preprocessed_doc.noun_chunks]"
   ]
  },
  {
   "cell_type": "code",
   "execution_count": 4,
   "metadata": {},
   "outputs": [
    {
     "name": "stdout",
     "output_type": "stream",
     "text": [
      "CPU times: user 674 ms, sys: 0 ns, total: 674 ms\n",
      "Wall time: 677 ms\n"
     ]
    }
   ],
   "source": [
    "%%time\n",
    "sample['preprocess_text'] = sample['body'].map(preprocess)\n",
    "sample['noun_phrase'] = sample['body'].map(chunk_noun_phrases)\n",
    "sample_noun_phrase = sample['noun_phrase'].values.tolist()\n",
    "# sample_noun_phrase[0]"
   ]
  },
  {
   "cell_type": "code",
   "execution_count": 5,
   "metadata": {},
   "outputs": [
    {
     "name": "stdout",
     "output_type": "stream",
     "text": [
      "[['the phone', 'every purpose offer', 'the day buy', 'the case', 'the case', 'own picture', 'the jaket', 'the store', 'an employee', 'the casing', 'half', 'deal', 'the clear casing', 'case', 'the time'], ['software issue', 'nokia', 'this phone text messaging capability', 'sprint system', 'software patch', 'the next few month', 'at least hour', 'sprint award', 'customer service team', 'someone', 'who', 'the problem', 'that nokia design phone', 'incoming message', 'the way', 'most provider work sprint', 'people', 'inbox compose reply', 'the sprint server', 'innovation', 'money'], ['the phone', 'didn', 'the price', 'the bill', 'one', 'also ve have phone', 'little over two month', 'free accessory', 'the phone', 'the company', 'couple', 'week', 'the phone', 'the phone call'], ['great reliable phone', 'this phone', 'samsung', 'the menu', 'speed dialing', 'around number voice dialing', 'nice feature', 'the only thing', 'the games nokia', 'snake', 'phone', 'skydiving game bowling', 'tennis', 'pong', 'the ringer', 'feature', 'different ringer', 'each person', 'ringtone', 'what', 'vibrate ringtone', 'regular midi polyphonic tone', 'reasonable price range'], ['the samsung', 'absolute doo doo', 'review', 'rage', 'the stupid thing', 'this nokia phone buy', 'garage sale', 'the menu', 'what', 'number category', 'pain', 're', 'class', 'ring', 'the damn thing', 'silent learn', 'the hard way', 'the case mission', 'nail', 'the process', 'the case', 'each time', 'some reason', 'the phone start', 'problem', 'open button', 'bit big vibration', 'strong good reception', 'too shabby be use', 'the elevator', 'remarkable feat', 'old phone', 'service', 'old samsung', 'this phone work', 'the ring tone', 'the phone', 'great battery life', 'potatoe', 'the oven', 'long phone convos nice bright large screen cute way', 'scroll bar', 'okay phone serve purpose', 'comparison', 'these new phone', 'sprint']]\n"
     ]
    }
   ],
   "source": [
    "print(sample_noun_phrase)"
   ]
  },
  {
   "cell_type": "code",
   "execution_count": 7,
   "metadata": {},
   "outputs": [
    {
     "data": {
      "text/plain": [
       "['the phone have be great for every purpose offer except the day buy could not get the case off can take the case off to put own picture in the jaket which be super cool but when take back to the store an employee say be mean to be hard to get off well could barely even get off come close to snap the casing in half be never able to get off after that which be not that big of deal but get dirty under the clear casing and look really dirty now make sure can get case on and off oh and have to charge all off the time',\n",
       " 'due to software issue between nokia and sprint this phone text messaging capability don work with sprint system and win until software patch come out some time in the next few month will have to spend at least hour with sprint award win customer service team to find someone who will admit this to the problem be that nokia design phone so that incoming message be retrieve quickly and then view offline the way most provider work sprint however like to have people hook up to server first and then stay connected burn minute while check inbox compose reply and wait for the sprint server to respond so can send out innovation in money make at fine',\n",
       " 'love the phone and all because really do need one but didn expect the price of the bill when receive one also ve have phone for little over two month now and still have yet to receive free accessory that be suppose to come with the phone every time call the company keep tell to wait couple of week and that should be receive shortly other than that do love the phone and all that be able to do with and not just talk about make the phone call',\n",
       " 'this be great reliable phone also purchase this phone after samsung die the menu be easily comprehendable and speed dialing be available for around number voice dialing be also nice feature but take long than speed dialing the only thing that bother be the games nokia seem to have take snake and off phone there be skydiving game bowling and tennis like pong the ringer be very nice and feature be available to choose different ringer for each person call however ringtone be not available online to download to this phone re pretty much stuck with what have there be vibrate ringtone and regular midi polyphonic tone all need be cover in reasonable price range',\n",
       " 'have the samsung for awhile which be absolute doo doo can read review on and detect rage at the stupid thing finally die on so use this nokia phone buy in garage sale for wonder sell so cheap bad hate the menu take forever to get to what want because have to scroll endlessly usually phone have number category so can simply press the and get where want to go pain to put on silent or vibrate if re in class and ring have to turn off immediately there no fast way to silence the damn thing always remember to put on silent learn that the hard way so true about the case mission to get off and will break ur nail in the process also will damage the case each time try for some reason the phone start give problem once do succeed in open button could be bit big vibration could be strong good reception be not too shabby be use in the elevator which be remarkable feat consider old phone would lose service by simply put in pocket compare to old samsung this phone work quite well the ring tone be loud enough to hear and the phone actually charge quickly and have great battery life doesn heat up like potatoe in the oven either during long phone convos nice bright large screen cute way to customize scroll bar can be set to purple pink aqua orange etc overall okay phone serve purpose but definitely pale in comparison to these new phone come out from sprint why get so so when can get great']"
      ]
     },
     "execution_count": 7,
     "metadata": {},
     "output_type": "execute_result"
    }
   ],
   "source": [
    "sample['preprocess_text'].values.tolist()"
   ]
  }
 ],
 "metadata": {
  "kernelspec": {
   "display_name": "Python 3",
   "language": "python",
   "name": "python3"
  },
  "language_info": {
   "codemirror_mode": {
    "name": "ipython",
    "version": 3
   },
   "file_extension": ".py",
   "mimetype": "text/x-python",
   "name": "python",
   "nbconvert_exporter": "python",
   "pygments_lexer": "ipython3",
   "version": "3.8.3"
  }
 },
 "nbformat": 4,
 "nbformat_minor": 4
}
