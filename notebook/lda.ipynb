{
 "cells": [
  {
   "cell_type": "code",
   "execution_count": 1,
   "metadata": {},
   "outputs": [],
   "source": [
    "import pandas as pd\n",
    "import re\n",
    "from nltk.tokenize import TreebankWordTokenizer\n",
    "from nltk.stem import WordNetLemmatizer\n",
    "from nltk.corpus import wordnet, stopwords\n",
    "from nltk import pos_tag\n",
    "import gensim\n",
    "\n",
    "pd.set_option('display.max_colwidth', None)"
   ]
  },
  {
   "cell_type": "code",
   "execution_count": 2,
   "metadata": {},
   "outputs": [
    {
     "data": {
      "text/html": [
       "<div>\n",
       "<style scoped>\n",
       "    .dataframe tbody tr th:only-of-type {\n",
       "        vertical-align: middle;\n",
       "    }\n",
       "\n",
       "    .dataframe tbody tr th {\n",
       "        vertical-align: top;\n",
       "    }\n",
       "\n",
       "    .dataframe thead th {\n",
       "        text-align: right;\n",
       "    }\n",
       "</style>\n",
       "<table border=\"1\" class=\"dataframe\">\n",
       "  <thead>\n",
       "    <tr style=\"text-align: right;\">\n",
       "      <th></th>\n",
       "      <th>unnamed: 0</th>\n",
       "      <th>reviewerid</th>\n",
       "      <th>asin</th>\n",
       "      <th>reviewername</th>\n",
       "      <th>helpful</th>\n",
       "      <th>reviewtext</th>\n",
       "      <th>overall</th>\n",
       "      <th>summary</th>\n",
       "      <th>unixreviewtime</th>\n",
       "      <th>reviewtime</th>\n",
       "    </tr>\n",
       "  </thead>\n",
       "  <tbody>\n",
       "    <tr>\n",
       "      <th>0</th>\n",
       "      <td>1961951</td>\n",
       "      <td>A2UATTW1F1O6XK</td>\n",
       "      <td>B0090AAOUW</td>\n",
       "      <td>2know</td>\n",
       "      <td>[8, 9]</td>\n",
       "      <td>This is a 3G phone, simple and I am loving it. I ordered this phone from lolbuy, I purchase this phone on April 19, 2013. I order this phone and request this phone in white. All I can say that I received my phone on April 29, 2013. This not bad at all for to say that this phone came to the US all the way from Hong Kong. I received my phone in White, and I really love this phone. Everyone really need to order from this seller. Awesome shipping, quick response to email. Outstanding Seller. I really just love my phone, not complaints and i really recommend this phone and seller to a friend</td>\n",
       "      <td>5.0</td>\n",
       "      <td>AWesome Seller and Awesome Phone</td>\n",
       "      <td>1367971200</td>\n",
       "      <td>05 8, 2013</td>\n",
       "    </tr>\n",
       "    <tr>\n",
       "      <th>1</th>\n",
       "      <td>1961952</td>\n",
       "      <td>A9JWKFBB8FZT9</td>\n",
       "      <td>B0090AAOUW</td>\n",
       "      <td>Abunya Moses</td>\n",
       "      <td>[4, 5]</td>\n",
       "      <td>The only reason why i am rating this phone a 4 star is because i am waiting to see how it continues to maintain its current excellent status---other wise, its a 5 star for me. I ordered this phone locally in the US. It took four days to prepare the shipping but once the shipping left the seller facility, i got it within two days. I have had it for just over a week but i can testify so far that its an excellent phone. I wouldn't advice anyone to go waste precious money on a Samsung note. This phone does it well. The camera is good. Internet is fast, depending on your network provider--and it uses a Sim card. Mine is Ultra mobile which uses T-Mobile network but its perfect. Sound is good and features are excellent. The front camera could be a little better but most front cameras are like that on most phones anyway. The back camera is above average and clean! I am definitely loving it and will be happy to answer anyone's question related to this phone because although i have had it for a little more than a week, i am quick with exploring phone features and i already tested all the features. I have good information to share. Its not only insanely cheap, it is a great phone--Go for it surely!!!!</td>\n",
       "      <td>4.0</td>\n",
       "      <td>Definately the phone to buy. I am glad i went for it finally!!!!!</td>\n",
       "      <td>1372118400</td>\n",
       "      <td>06 25, 2013</td>\n",
       "    </tr>\n",
       "    <tr>\n",
       "      <th>2</th>\n",
       "      <td>1961953</td>\n",
       "      <td>A1RL0QW0HGNMZY</td>\n",
       "      <td>B0090AAOUW</td>\n",
       "      <td>Adam Andall</td>\n",
       "      <td>[1, 2]</td>\n",
       "      <td>These phones just keep freezing up all the time. Not reading memory card.Not holding internet connection. will not recommend it to anyone.</td>\n",
       "      <td>2.0</td>\n",
       "      <td>Just a flashy phone. Nothing more</td>\n",
       "      <td>1383523200</td>\n",
       "      <td>11 4, 2013</td>\n",
       "    </tr>\n",
       "  </tbody>\n",
       "</table>\n",
       "</div>"
      ],
      "text/plain": [
       "   unnamed: 0      reviewerid        asin  reviewername helpful  \\\n",
       "0     1961951  A2UATTW1F1O6XK  B0090AAOUW         2know  [8, 9]   \n",
       "1     1961952   A9JWKFBB8FZT9  B0090AAOUW  Abunya Moses  [4, 5]   \n",
       "2     1961953  A1RL0QW0HGNMZY  B0090AAOUW   Adam Andall  [1, 2]   \n",
       "\n",
       "                                                                                                                                                                                                                                                                                                                                                                                                                                                                                                                                                                                                                                                                                                                                                                                                                                                                                                                                                                                                                                                                                                                                                                                                                                                  reviewtext  \\\n",
       "0                                                                                                                                                                                                                                                                                                                                                                                                                                                                                                                                                                                                                                          This is a 3G phone, simple and I am loving it. I ordered this phone from lolbuy, I purchase this phone on April 19, 2013. I order this phone and request this phone in white. All I can say that I received my phone on April 29, 2013. This not bad at all for to say that this phone came to the US all the way from Hong Kong. I received my phone in White, and I really love this phone. Everyone really need to order from this seller. Awesome shipping, quick response to email. Outstanding Seller. I really just love my phone, not complaints and i really recommend this phone and seller to a friend   \n",
       "1  The only reason why i am rating this phone a 4 star is because i am waiting to see how it continues to maintain its current excellent status---other wise, its a 5 star for me. I ordered this phone locally in the US. It took four days to prepare the shipping but once the shipping left the seller facility, i got it within two days. I have had it for just over a week but i can testify so far that its an excellent phone. I wouldn't advice anyone to go waste precious money on a Samsung note. This phone does it well. The camera is good. Internet is fast, depending on your network provider--and it uses a Sim card. Mine is Ultra mobile which uses T-Mobile network but its perfect. Sound is good and features are excellent. The front camera could be a little better but most front cameras are like that on most phones anyway. The back camera is above average and clean! I am definitely loving it and will be happy to answer anyone's question related to this phone because although i have had it for a little more than a week, i am quick with exploring phone features and i already tested all the features. I have good information to share. Its not only insanely cheap, it is a great phone--Go for it surely!!!!   \n",
       "2                                                                                                                                                                                                                                                                                                                                                                                                                                                                                                                                                                                                                                                                                                                                                                                                                                                                                                                                                                                                                                                                                                                 These phones just keep freezing up all the time. Not reading memory card.Not holding internet connection. will not recommend it to anyone.   \n",
       "\n",
       "   overall                                                            summary  \\\n",
       "0      5.0                                   AWesome Seller and Awesome Phone   \n",
       "1      4.0  Definately the phone to buy. I am glad i went for it finally!!!!!   \n",
       "2      2.0                                  Just a flashy phone. Nothing more   \n",
       "\n",
       "   unixreviewtime   reviewtime  \n",
       "0      1367971200   05 8, 2013  \n",
       "1      1372118400  06 25, 2013  \n",
       "2      1383523200   11 4, 2013  "
      ]
     },
     "execution_count": 2,
     "metadata": {},
     "output_type": "execute_result"
    }
   ],
   "source": [
    "data = pd.read_csv('../data/B0090AAOUW.csv')\n",
    "data.columns = map(str.lower, data.columns)\n",
    "data_reviewtext = data[['reviewtext']].copy()\n",
    "data_reviewtext['index'] = data_reviewtext.index\n",
    "data.head(3)"
   ]
  },
  {
   "cell_type": "code",
   "execution_count": 3,
   "metadata": {},
   "outputs": [],
   "source": [
    "def preprocess_data(text):\n",
    "#     sentences = []\n",
    "    for line in text.splitlines():\n",
    "        sentence = re.sub('<.*?>', '', line) # remove html tags\n",
    "        sentence = re.sub(r'\\d+', '', sentence) # remove nunumeric characters\n",
    "        sentence = re.sub(r'[!”#$%&()*+,-./:;<=>?@[\\]^_`{|}~]', '', sentence) # remove punctuations\n",
    "        sentence = sentence.strip().lower() # remove leading/ending spaces and case fold to lower\n",
    "        sentence = remove_stopwords(sentence)\n",
    "        sentence = lemmatize_words(sentence)\n",
    "#         sentences.append(sentence)\n",
    "        \n",
    "    return sentence"
   ]
  },
  {
   "cell_type": "code",
   "execution_count": 4,
   "metadata": {},
   "outputs": [],
   "source": [
    "STOPWORDS = set(stopwords.words('english'))\n",
    "def remove_stopwords(text):\n",
    "    return \" \".join([word for word in str(text).split() if word not in STOPWORDS])"
   ]
  },
  {
   "cell_type": "code",
   "execution_count": 5,
   "metadata": {},
   "outputs": [],
   "source": [
    "def lemmatize_words(text):\n",
    "    result = []\n",
    "    lemmatizer = WordNetLemmatizer()\n",
    "    wordnet_map = {\"N\":wordnet.NOUN, \"V\":wordnet.VERB, \"J\":wordnet.ADJ, \"R\":wordnet.ADV}\n",
    "    pos_tagged_text = pos_tag(text.split())\n",
    "    \n",
    "    for word, pos in pos_tagged_text:\n",
    "        result.append(lemmatizer.lemmatize(word, wordnet_map.get(pos[0], wordnet.NOUN)))\n",
    "    \n",
    "    return result\n",
    "\n",
    "#     return \" \".join([lemmatizer.lemmatize(word, wordnet_map.get(pos[0], wordnet.NOUN)) for word, pos in pos_tagged_text])"
   ]
  },
  {
   "cell_type": "code",
   "execution_count": 6,
   "metadata": {},
   "outputs": [
    {
     "data": {
      "text/plain": [
       "0                                                                                                                                                                                                                                                                                                                                                                               [g, phone, simple, loving, order, phone, lolbuy, purchase, phone, april, order, phone, request, phone, white, say, receive, phone, april, bad, say, phone, come, u, way, hong, kong, receive, phone, white, really, love, phone, everyone, really, need, order, seller, awesome, shipping, quick, response, email, outstanding, seller, really, love, phone, complaint, really, recommend, phone, seller, friend]\n",
       "1      [reason, rating, phone, star, wait, see, continue, maintain, current, excellent, statusother, wise, star, order, phone, locally, u, take, four, day, prepare, ship, ship, leave, seller, facility, get, within, two, day, week, testify, far, excellent, phone, advice, anyone, go, waste, precious, money, samsung, note, phone, well, camera, good, internet, fast, depend, network, providerand, use, sim, card, mine, ultra, mobile, us, tmobile, network, perfect, sound, good, feature, excellent, front, camera, could, little, good, front, camera, like, phone, anyway, back, camera, average, clean, definitely, love, happy, answer, anyone's, question, relate, phone, although, little, week, quick, explore, phone, feature, already, test, feature, good, information, ...]\n",
       "2                                                                                                                                                                                                                                                                                                                                                                                                                                                                                                                                                                                                                                                                                             [phone, keep, freezing, time, read, memory, cardnot, hold, internet, connection, recommend, anyone]\n",
       "3                                                                                                                                                                                                                                                                                                                                                                                                                                                                                                                                                                           [great, phone, company, buy, planet, tek, worlwide, honest, nice, answer, question, phone, well, galaxy, note, love, would, recommend, company, phone, everyone, use, sims, att, sim, straighttalk, sim, work, great]\n",
       "4                                                                                                                                                                                                                                                                                                                                                                                                                                                                                                                                                                                                                                                                                            [love, phone, can't, trade, anything, well, thisit, wonderful, phone, work, great, tmobile, simlove]\n",
       "                                                                                                                                                                                                                                                                                                                                                                                                  ...                                                                                                                                                                                                                                                                                                                                                                                            \n",
       "761                                                                                                                                                                                                                                                                                                                                                                                                                                                                                                                                                                                                                                                              [phone, good, phone, happy, phone, yes, big, phone, love, tmobile, phone, work, great, company, buy, daughter, one, love, phone]\n",
       "762                                                                                                                                                                                                                                                                                                                                                                                                                                                                                                                   [buy, phone, mate, christmasit, take, month, half, arrivenot, screen, protector, another, phone, well, protection, shellso, basically, pay, extra, \"extra\", useable, phone, i'm, also, difficult, time, find, screen, protector, protector, shell, phoneother, nice, phone]\n",
       "763                                                                                                                                                                                                                                                                                                                                                                                                                                                                                                                                                                                                                                                                                                [nice, phoneworks, well, price, good, onemy, boyfriend, please, one, heretakes, nice, picture]\n",
       "764                                                                                                                                                                                                                                                                                                                                                      [thing, disappoint, long, take, ship, expect, see, come, china, look, clone, phone, none, ever, appeal, cause, look, like, run, sort, hammy, o, didnt, run, smooth, allyou, really, get, money, worth, one, run, smooth, tinker, apn, setting, work, unlimited, data, straight, talk, plan, look, great, budget, phone, one, also, order, case, mail, amazon, update, let, everyone, know, work, phone, see, everyone, look, case, haha]\n",
       "765                                                                                                                                                                                                                                                                                                                                                                                                                                      [ok, comaparing, phone, note, don'tthis, phone, awesome, phone, price, screen, vibrant, pretty, nice, view, angle, fast, responsivequality, phone, feel, really, goodi, tmobile, net, sims, work, simultaneously, tmobile, get, edge, net, get, g, h, san, diegoi, think, tmobile, soon, complete, refarming, mhz, maybe, soon, get, g, unlocked, phone]\n",
       "Name: preprocess_text, Length: 766, dtype: object"
      ]
     },
     "execution_count": 6,
     "metadata": {},
     "output_type": "execute_result"
    }
   ],
   "source": [
    "data_reviewtext['preprocess_text'] = data_reviewtext['reviewtext'].map(preprocess_data)\n",
    "data_reviewtext['preprocess_text']"
   ]
  },
  {
   "cell_type": "code",
   "execution_count": 9,
   "metadata": {},
   "outputs": [
    {
     "name": "stdout",
     "output_type": "stream",
     "text": [
      "0 awesome\n",
      "1 bad\n",
      "2 come\n",
      "3 email\n",
      "4 everyone\n",
      "5 g\n",
      "6 love\n",
      "7 need\n",
      "8 order\n",
      "9 purchase\n",
      "10 really\n"
     ]
    }
   ],
   "source": [
    "processed_docs = data_reviewtext['preprocess_text']\n",
    "dictionary = gensim.corpora.Dictionary(processed_docs)\n",
    "dictionary.filter_extremes(no_below=25, no_above=0.5, keep_n=100000)\n",
    "count = 0\n",
    "for k, v in dictionary.iteritems():\n",
    "    print(k, v)\n",
    "    count += 1\n",
    "    if count > 10:\n",
    "        break"
   ]
  },
  {
   "cell_type": "code",
   "execution_count": 10,
   "metadata": {},
   "outputs": [
    {
     "data": {
      "text/plain": [
       "[(6, 1),\n",
       " (8, 1),\n",
       " (14, 1),\n",
       " (15, 1),\n",
       " (18, 1),\n",
       " (19, 1),\n",
       " (20, 1),\n",
       " (21, 4),\n",
       " (22, 1),\n",
       " (23, 1),\n",
       " (24, 1),\n",
       " (25, 2),\n",
       " (26, 3),\n",
       " (27, 1),\n",
       " (28, 1),\n",
       " (29, 3),\n",
       " (30, 2),\n",
       " (31, 1),\n",
       " (32, 1),\n",
       " (33, 4),\n",
       " (34, 1),\n",
       " (35, 1),\n",
       " (36, 1),\n",
       " (37, 1),\n",
       " (38, 2),\n",
       " (39, 1),\n",
       " (40, 1),\n",
       " (41, 2),\n",
       " (42, 1),\n",
       " (43, 1),\n",
       " (44, 1),\n",
       " (45, 1),\n",
       " (46, 2),\n",
       " (47, 1),\n",
       " (48, 1),\n",
       " (49, 2),\n",
       " (50, 1),\n",
       " (51, 1),\n",
       " (52, 1),\n",
       " (53, 1),\n",
       " (54, 1),\n",
       " (55, 1),\n",
       " (56, 2),\n",
       " (57, 1),\n",
       " (58, 1)]"
      ]
     },
     "execution_count": 10,
     "metadata": {},
     "output_type": "execute_result"
    }
   ],
   "source": [
    "bow_corpus = [dictionary.doc2bow(doc) for doc in processed_docs]\n",
    "bow_corpus[1]"
   ]
  },
  {
   "cell_type": "code",
   "execution_count": 11,
   "metadata": {},
   "outputs": [
    {
     "name": "stdout",
     "output_type": "stream",
     "text": [
      "[(0, 0.1863041189220724),\n",
      " (1, 0.1402906827129922),\n",
      " (2, 0.093424642884464),\n",
      " (3, 0.1752966389968964),\n",
      " (4, 0.20661829051601466),\n",
      " (5, 0.14532476317316909),\n",
      " (6, 0.19214942101249646),\n",
      " (7, 0.12476111192493058),\n",
      " (8, 0.3403296755865487),\n",
      " (9, 0.1306399787719773),\n",
      " (10, 0.42832876172569695),\n",
      " (11, 0.22282731251365606),\n",
      " (12, 0.12928320278781616),\n",
      " (13, 0.22483982544815412),\n",
      " (14, 0.3919199363159319),\n",
      " (15, 0.17977083299853866),\n",
      " (16, 0.1537627493446934),\n",
      " (17, 0.38342872506654363)]\n"
     ]
    }
   ],
   "source": [
    "from gensim import corpora, models\n",
    "from pprint import pprint\n",
    "\n",
    "tfidf = models.TfidfModel(bow_corpus)\n",
    "corpus_tfidf = tfidf[bow_corpus]\n",
    "\n",
    "for doc in corpus_tfidf:\n",
    "    pprint(doc)\n",
    "    break"
   ]
  },
  {
   "cell_type": "code",
   "execution_count": 12,
   "metadata": {},
   "outputs": [],
   "source": [
    "lda_model = gensim.models.LdaMulticore(bow_corpus, num_topics=5, id2word=dictionary, passes=2, workers=2)"
   ]
  },
  {
   "cell_type": "code",
   "execution_count": 13,
   "metadata": {},
   "outputs": [
    {
     "name": "stdout",
     "output_type": "stream",
     "text": [
      "Topic: 0 \n",
      "Words: 0.023*\"one\" + 0.020*\"case\" + 0.020*\"card\" + 0.020*\"love\" + 0.017*\"sim\" + 0.016*\"work\" + 0.016*\"buy\" + 0.016*\"order\" + 0.016*\"would\" + 0.015*\"time\"\n",
      "Topic: 1 \n",
      "Words: 0.027*\"get\" + 0.024*\"good\" + 0.021*\"work\" + 0.017*\"like\" + 0.015*\"picture\" + 0.014*\"use\" + 0.014*\"back\" + 0.014*\"call\" + 0.014*\"take\" + 0.013*\"come\"\n",
      "Topic: 2 \n",
      "Words: 0.042*\"get\" + 0.025*\"screen\" + 0.022*\"use\" + 0.019*\"work\" + 0.017*\"go\" + 0.016*\"like\" + 0.014*\"battery\" + 0.013*\"card\" + 0.013*\"buy\" + 0.012*\"still\"\n",
      "Topic: 3 \n",
      "Words: 0.027*\"work\" + 0.023*\"get\" + 0.022*\"one\" + 0.019*\"good\" + 0.019*\"would\" + 0.017*\"battery\" + 0.016*\"screen\" + 0.015*\"like\" + 0.014*\"use\" + 0.014*\"great\"\n",
      "Topic: 4 \n",
      "Words: 0.043*\"work\" + 0.024*\"great\" + 0.022*\"use\" + 0.017*\"get\" + 0.015*\"sim\" + 0.015*\"come\" + 0.014*\"buy\" + 0.014*\"talk\" + 0.014*\"screen\" + 0.014*\"good\"\n"
     ]
    }
   ],
   "source": [
    "for idx, topic in lda_model.print_topics(-1):\n",
    "    print('Topic: {} \\nWords: {}'.format(idx, topic))"
   ]
  },
  {
   "cell_type": "code",
   "execution_count": null,
   "metadata": {},
   "outputs": [],
   "source": [
    "lda_model_tfidf = gensim.models.LdaMulticore(corpus_tfidf, num_topics=5, id2word=dictionary, passes=2, workers=4)\n",
    "\n",
    "for idx, topic in lda_model_tfidf.print_topics(-1):\n",
    "    print('Topic: {} Word: {}'.format(idx, topic))"
   ]
  },
  {
   "cell_type": "code",
   "execution_count": null,
   "metadata": {},
   "outputs": [],
   "source": [
    "for index, score in sorted(lda_model[bow_corpus[2]], key=lambda tup: -1*tup[1]):\n",
    "    print(\"\\nScore: {}\\t \\nTopic: {}\".format(score, lda_model.print_topic(index, 10)))"
   ]
  }
 ],
 "metadata": {
  "kernelspec": {
   "display_name": "Python 3",
   "language": "python",
   "name": "python3"
  },
  "language_info": {
   "codemirror_mode": {
    "name": "ipython",
    "version": 3
   },
   "file_extension": ".py",
   "mimetype": "text/x-python",
   "name": "python",
   "nbconvert_exporter": "python",
   "pygments_lexer": "ipython3",
   "version": "3.8.3"
  }
 },
 "nbformat": 4,
 "nbformat_minor": 4
}
