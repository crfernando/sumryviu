{
 "cells": [
  {
   "cell_type": "code",
   "execution_count": 10,
   "metadata": {},
   "outputs": [],
   "source": [
    "import logging\n",
    "from time import time\n",
    "logging.basicConfig(format='%(levelname)s %(asctime)s: %(message)s', datefmt='%H:%M:%S', level=logging.INFO)"
   ]
  },
  {
   "cell_type": "code",
   "execution_count": 11,
   "metadata": {},
   "outputs": [],
   "source": [
    "import spacy \n",
    "nlp = spacy.load('en', disable=['ner', 'parser'])"
   ]
  },
  {
   "cell_type": "code",
   "execution_count": 12,
   "metadata": {},
   "outputs": [],
   "source": [
    "from gensim.parsing.preprocessing import strip_tags, strip_non_alphanum, strip_multiple_whitespaces, strip_short\n",
    "\n",
    "def preprocess(text):\n",
    "    ''' \n",
    "    this function does simple text pre-processing such as, \n",
    "        - remove html tags\n",
    "        - remove non-alphabetic \n",
    "        - remove punctuation\n",
    "        - lowercase\n",
    "    '''\n",
    "    step_process_text = strip_tags(str(text))\n",
    "    step_process_text = strip_non_alphanum(step_process_text)\n",
    "#     step_process_text = remove_stopwords(step_process_text)\n",
    "#     step_process_text = strip_multiple_whitespaces(step_process_text)\n",
    "    step_process_text = strip_short(step_process_text, minsize=5)\n",
    "    processed_text = step_process_text.strip().lower()\n",
    "    return processed_text\n",
    "\n",
    "def lemmatize(text):\n",
    "    ''' \n",
    "    this function does text lemmatization on pre-processed text; \n",
    "        - remove stop words\n",
    "        - lemmatizaation\n",
    "    '''\n",
    "    lemmatized_text = \" \".join([token.lemma_ for token in nlp(text) if not token.is_stop])\n",
    "    return lemmatized_text"
   ]
  },
  {
   "cell_type": "code",
   "execution_count": 13,
   "metadata": {},
   "outputs": [],
   "source": [
    "import pandas as pd\n",
    "pd.set_option('display.max_colwidth', None)\n",
    "\n",
    "dataset_review_meta = pd.read_csv('/mnt/d/data/amazon-review-data/amazon-cell-phone-review-meta.csv', nrows=5)\n",
    "dataset_review = pd.read_csv('/mnt/d/data/amazon-review-data/amazon-cell-phone-reviews.csv', nrows=5)\n",
    "dataset_review.columns = map(str.lower, dataset_review.columns)"
   ]
  },
  {
   "cell_type": "code",
   "execution_count": 14,
   "metadata": {},
   "outputs": [],
   "source": [
    "preprocess_text = (preprocess(row) for row in dataset_review['body'])\n",
    "lemmatize_text = [lemmatize(str(doc)) for doc in nlp.pipe(preprocess_text, batch_size=100, n_threads=-1)]"
   ]
  },
  {
   "cell_type": "code",
   "execution_count": 15,
   "metadata": {},
   "outputs": [
    {
     "data": {
      "text/html": [
       "<div>\n",
       "<style scoped>\n",
       "    .dataframe tbody tr th:only-of-type {\n",
       "        vertical-align: middle;\n",
       "    }\n",
       "\n",
       "    .dataframe tbody tr th {\n",
       "        vertical-align: top;\n",
       "    }\n",
       "\n",
       "    .dataframe thead th {\n",
       "        text-align: right;\n",
       "    }\n",
       "</style>\n",
       "<table border=\"1\" class=\"dataframe\">\n",
       "  <thead>\n",
       "    <tr style=\"text-align: right;\">\n",
       "      <th></th>\n",
       "      <th>lemmatize_text</th>\n",
       "    </tr>\n",
       "  </thead>\n",
       "  <tbody>\n",
       "    <tr>\n",
       "      <th>0</th>\n",
       "      <td>samsung awhile absolute review detect stupid thing finally nokia phone buy garage wonder cheap take forever scroll endlessly usually phone number category simply press silent vibrate class ring immediately silence thing remember silent learn mission break nail process damage reason phone start give problem succeed open button big vibration strong reception shabby elevator remarkable consider phone service simply put pocket compare samsung phone work tone phone actually charge quickly great battery doesn potatoe phone convos bright large screen customize scroll purple orange overall phone serve purpose definitely pale comparison phone come sprint great</td>\n",
       "    </tr>\n",
       "    <tr>\n",
       "      <th>1</th>\n",
       "      <td>software issue nokia sprint phone messaging capability sprint system software patch come month spend sprint award win customer service admit problem nokia design phone incoming message retrieve quickly view offline provider sprint like people server connected burn minute check inbox compose reply sprint server respond innovation money make fine</td>\n",
       "    </tr>\n",
       "    <tr>\n",
       "      <th>2</th>\n",
       "      <td>great reliable phone purchase phone samsung easily comprehendable speed dialing available number voice dialing feature take long speed dialing thing bother game nokia take snake phone skydive bowl tennis ringer feature available choose different ringer person call ringtone available online download phone pretty stuck vibrate ringtone regular polyphonic tone cover reasonable price range</td>\n",
       "    </tr>\n",
       "    <tr>\n",
       "      <th>3</th>\n",
       "      <td>phone expect price receive phone little month receive accessory suppose phone company tell couple week receive shortly phone talk make phone call</td>\n",
       "    </tr>\n",
       "    <tr>\n",
       "      <th>4</th>\n",
       "      <td>phone great purpose offer buy not picture jaket super store employee mean barely close snap case dirty clear casing look dirty charge</td>\n",
       "    </tr>\n",
       "  </tbody>\n",
       "</table>\n",
       "</div>"
      ],
      "text/plain": [
       "                                                                                                                                                                                                                                                                                                                                                                                                                                                                                                                                                                                                                                                                        lemmatize_text\n",
       "0  samsung awhile absolute review detect stupid thing finally nokia phone buy garage wonder cheap take forever scroll endlessly usually phone number category simply press silent vibrate class ring immediately silence thing remember silent learn mission break nail process damage reason phone start give problem succeed open button big vibration strong reception shabby elevator remarkable consider phone service simply put pocket compare samsung phone work tone phone actually charge quickly great battery doesn potatoe phone convos bright large screen customize scroll purple orange overall phone serve purpose definitely pale comparison phone come sprint great\n",
       "1                                                                                                                                                                                                                                                                                                                           software issue nokia sprint phone messaging capability sprint system software patch come month spend sprint award win customer service admit problem nokia design phone incoming message retrieve quickly view offline provider sprint like people server connected burn minute check inbox compose reply sprint server respond innovation money make fine\n",
       "2                                                                                                                                                                                                                                                                                 great reliable phone purchase phone samsung easily comprehendable speed dialing available number voice dialing feature take long speed dialing thing bother game nokia take snake phone skydive bowl tennis ringer feature available choose different ringer person call ringtone available online download phone pretty stuck vibrate ringtone regular polyphonic tone cover reasonable price range\n",
       "3                                                                                                                                                                                                                                                                                                                                                                                                                                                                                                                                    phone expect price receive phone little month receive accessory suppose phone company tell couple week receive shortly phone talk make phone call\n",
       "4                                                                                                                                                                                                                                                                                                                                                                                                                                                                                                                                                phone great purpose offer buy not picture jaket super store employee mean barely close snap case dirty clear casing look dirty charge"
      ]
     },
     "execution_count": 15,
     "metadata": {},
     "output_type": "execute_result"
    }
   ],
   "source": [
    "df = pd.DataFrame({'lemmatize_text' : lemmatize_text})\n",
    "df = df.dropna()\n",
    "df"
   ]
  },
  {
   "cell_type": "code",
   "execution_count": 62,
   "metadata": {},
   "outputs": [
    {
     "name": "stderr",
     "output_type": "stream",
     "text": [
      "INFO 16:50:36: collecting all words and their counts\n",
      "INFO 16:50:36: PROGRESS: at sentence #0, processed 0 words and 0 word types\n",
      "INFO 16:50:36: PROGRESS: at sentence #1, processed 93 words and 171 word types\n",
      "INFO 16:50:36: PROGRESS: at sentence #2, processed 142 words and 253 word types\n",
      "INFO 16:50:36: PROGRESS: at sentence #3, processed 195 words and 336 word types\n",
      "INFO 16:50:36: PROGRESS: at sentence #4, processed 217 words and 368 word types\n",
      "INFO 16:50:36: collected 405 word types from a corpus of 239 words (unigram + bigrams) and 5 sentences\n",
      "INFO 16:50:36: using 405 counts as vocab in Phrases<0 vocab, min_count=2, threshold=1, max_vocab_size=40000000>\n",
      "INFO 16:50:36: source_vocab length 405\n",
      "INFO 16:50:36: Phraser built with 0 phrasegrams\n"
     ]
    }
   ],
   "source": [
    "from gensim.models.phrases import Phrases, Phraser\n",
    "sent = [row.split() for row in df['lemmatize_text']]\n",
    "phrases = Phrases(sent, min_count=2, threshold=1, progress_per=1)\n",
    "bigram = Phraser(phrases)"
   ]
  },
  {
   "cell_type": "code",
   "execution_count": 63,
   "metadata": {},
   "outputs": [],
   "source": [
    "import multiprocessing\n",
    "from gensim.models import Word2Vec\n",
    "\n",
    "cores = multiprocessing.cpu_count() # counts number cpu in computer"
   ]
  },
  {
   "cell_type": "code",
   "execution_count": 64,
   "metadata": {},
   "outputs": [
    {
     "name": "stdout",
     "output_type": "stream",
     "text": [
      "['phone', 'sprint', 'nokia', 'great', 'samsung', 'thing', 'take', 'dialing', 'available', 'receive']\n"
     ]
    }
   ],
   "source": [
    "from collections import defaultdict\n",
    "sentences = bigram[sent]\n",
    "word_frequency = defaultdict(int)\n",
    "for sent in sentences:\n",
    "    for i in sent:\n",
    "        word_frequency[i] += 1\n",
    "\n",
    "print(sorted(word_frequency, key=word_frequency.get, reverse=True)[:10])"
   ]
  },
  {
   "cell_type": "code",
   "execution_count": 65,
   "metadata": {},
   "outputs": [],
   "source": [
    "'''\n",
    "    min_count - words to be ingnored with total absolute frequency lower than this\n",
    "    window - maximum distance between the current and predicted word within a sentence\n",
    "    size - dimensionality of the feature vectors\n",
    "    sample - threshold for configuring which higher-frequency words are randomly downsampled\n",
    "    alpha - initial learning rate - (0.01, 0.05)\n",
    "    min_alpha - learning rate will linearly drop to min_alpha as training progresses\n",
    "    negative - negative sampling rate. If set to 0, no negative sampling is used.\n",
    "    workers - number of worker threads to train the model\n",
    "'''\n",
    "wordvec_model = Word2Vec(min_count=3, window=2, size=300, sample=6e-5, alpha=0.03, min_alpha=0.0007, negative=20, workers=cores-1)"
   ]
  },
  {
   "cell_type": "code",
   "execution_count": 66,
   "metadata": {},
   "outputs": [
    {
     "name": "stderr",
     "output_type": "stream",
     "text": [
      "INFO 16:50:37: collecting all words and their counts\n",
      "INFO 16:50:37: PROGRESS: at sentence #0, processed 0 words, keeping 0 word types\n",
      "INFO 16:50:37: PROGRESS: at sentence #1, processed 93 words, keeping 79 word types\n",
      "INFO 16:50:37: PROGRESS: at sentence #2, processed 142 words, keeping 113 word types\n",
      "INFO 16:50:37: PROGRESS: at sentence #3, processed 195 words, keeping 145 word types\n",
      "INFO 16:50:37: PROGRESS: at sentence #4, processed 217 words, keeping 156 word types\n",
      "INFO 16:50:37: collected 172 word types from a corpus of 239 raw words and 5 sentences\n",
      "INFO 16:50:37: Loading a fresh vocabulary\n",
      "INFO 16:50:37: effective_min_count=3 retains 10 unique words (5% of original 172, drops 162)\n",
      "INFO 16:50:37: effective_min_count=3 leaves 53 word corpus (22% of original 239, drops 186)\n",
      "INFO 16:50:37: deleting the raw counts dictionary of 172 items\n",
      "INFO 16:50:37: sample=6e-05 downsamples 10 most-common words\n",
      "INFO 16:50:37: downsampling leaves estimated 1 word corpus (2.3% of prior 53)\n",
      "INFO 16:50:37: estimated required memory for 10 words and 300 dimensions: 29000 bytes\n",
      "INFO 16:50:37: resetting layer weights\n"
     ]
    },
    {
     "name": "stdout",
     "output_type": "stream",
     "text": [
      "Time to build vocab: 0.0 mins\n"
     ]
    }
   ],
   "source": [
    "t = time()\n",
    "wordvec_model.build_vocab(sentences, progress_per=1)\n",
    "print('Time to build vocab: {} mins'.format(round((time() - t) / 60, 2)))"
   ]
  },
  {
   "cell_type": "code",
   "execution_count": 67,
   "metadata": {},
   "outputs": [
    {
     "name": "stderr",
     "output_type": "stream",
     "text": [
      "INFO 16:50:37: training model with 3 workers on 10 vocabulary and 300 features, using sg=0 hs=0 sample=6e-05 negative=20 window=2\n",
      "INFO 16:50:37: worker thread finished; awaiting finish of 2 more threads\n",
      "INFO 16:50:37: worker thread finished; awaiting finish of 1 more threads\n",
      "INFO 16:50:37: worker thread finished; awaiting finish of 0 more threads\n",
      "INFO 16:50:37: EPOCH - 1 : training on 239 raw words (1 effective words) took 0.0s, 200 effective words/s\n",
      "INFO 16:50:37: worker thread finished; awaiting finish of 2 more threads\n",
      "INFO 16:50:37: worker thread finished; awaiting finish of 1 more threads\n",
      "INFO 16:50:37: worker thread finished; awaiting finish of 0 more threads\n",
      "INFO 16:50:37: EPOCH - 2 : training on 239 raw words (1 effective words) took 0.0s, 173 effective words/s\n",
      "INFO 16:50:37: training on a 478 raw words (2 effective words) took 0.0s, 78 effective words/s\n",
      "WARNING 16:50:37: under 10 jobs per worker: consider setting a smaller `batch_words' for smoother alpha decay\n"
     ]
    },
    {
     "name": "stdout",
     "output_type": "stream",
     "text": [
      "Time to train the model: 0.0 mins\n"
     ]
    }
   ],
   "source": [
    "t = time()\n",
    "wordvec_model.train(sentences, total_examples=wordvec_model.corpus_count, epochs=2, report_delay=1)\n",
    "print('Time to train the model: {} mins'.format(round((time() - t) / 60, 2)))"
   ]
  },
  {
   "cell_type": "code",
   "execution_count": 68,
   "metadata": {},
   "outputs": [
    {
     "name": "stderr",
     "output_type": "stream",
     "text": [
      "INFO 16:50:37: precomputing L2-norms of word weight vectors\n"
     ]
    }
   ],
   "source": [
    "wordvec_model.init_sims(replace=True) # init_sims() will make the model much more memory-efficient"
   ]
  },
  {
   "cell_type": "code",
   "execution_count": 69,
   "metadata": {},
   "outputs": [
    {
     "name": "stdout",
     "output_type": "stream",
     "text": [
      "samsung\n",
      "thing\n",
      "nokia\n",
      "phone\n",
      "take\n",
      "great\n",
      "sprint\n",
      "dialing\n",
      "available\n",
      "receive\n"
     ]
    }
   ],
   "source": [
    "for i in wordvec_model.wv.vocab:\n",
    "    print(i)"
   ]
  },
  {
   "cell_type": "code",
   "execution_count": 70,
   "metadata": {},
   "outputs": [
    {
     "data": {
      "text/plain": [
       "[('dialing', 0.07674398273229599),\n",
       " ('available', 0.023674942553043365),\n",
       " ('thing', -0.005188621114939451),\n",
       " ('great', -0.008474580012261868),\n",
       " ('sprint', -0.034669507294893265),\n",
       " ('samsung', -0.037437330931425095),\n",
       " ('take', -0.04031497612595558),\n",
       " ('receive', -0.06873968988656998),\n",
       " ('nokia', -0.07171442359685898)]"
      ]
     },
     "execution_count": 70,
     "metadata": {},
     "output_type": "execute_result"
    }
   ],
   "source": [
    "wordvec_model.wv.most_similar(positive=[\"phone\"])"
   ]
  }
 ],
 "metadata": {
  "kernelspec": {
   "display_name": "Python 3",
   "language": "python",
   "name": "python3"
  },
  "language_info": {
   "codemirror_mode": {
    "name": "ipython",
    "version": 3
   },
   "file_extension": ".py",
   "mimetype": "text/x-python",
   "name": "python",
   "nbconvert_exporter": "python",
   "pygments_lexer": "ipython3",
   "version": "3.8.3"
  }
 },
 "nbformat": 4,
 "nbformat_minor": 4
}
