{
 "cells": [
  {
   "cell_type": "code",
   "execution_count": 160,
   "metadata": {},
   "outputs": [],
   "source": [
    "import pandas as pd\n",
    "import spacy\n",
    "import gensim\n",
    "import gensim.corpora as corpora\n",
    "from gensim.utils import simple_preprocess\n",
    "from gensim.models import CoherenceModel\n",
    "\n",
    "nlp = spacy.load(\"en\")\n",
    "\n",
    "pd.set_option('display.max_colwidth', None)"
   ]
  },
  {
   "cell_type": "raw",
   "metadata": {},
   "source": [
    "review_text = [\"After few years of use I don’t feel the phone is worth it. Battery dies much quicker and OS is slow. Apple is asking me to pay full replacement price for service. I guess I’m going to buy new iPhone 12 when it’s out.\"\n",
    "              , \"This iPhone came in almost-new condition. It also came with its own changer, which was a plus. However, the battery health was at 80%. After a month worth of use, it is down to 76%. While I am careful to charge the battery and disconnect it as soon as it reaches 100% charge, still, the battery health for an iPhone 6S cannot be expected to be any higher, considering the years of use any pre-owned phone might have had. A good suggestion might be to replace the old battery with a new one. Definitely, seller is not to be blamed for battery's condition.\"]"
   ]
  },
  {
   "cell_type": "code",
   "execution_count": 161,
   "metadata": {},
   "outputs": [],
   "source": [
    "def preprocess(text):\n",
    "    ''' \n",
    "    this function does simple text pre-processing such as, \n",
    "        - remove stop words\n",
    "        - remove punctuation\n",
    "        - convert to lowercase\n",
    "        - lemmatizaation\n",
    "    '''\n",
    "    preprocessed_text = \" \".join(simple_preprocess(text))\n",
    "    preprocessed_text_doc = nlp(preprocessed_text)\n",
    "    clean_text = \" \".join([token.lemma_.strip().lower() for token in preprocessed_text_doc if token.lemma_ != \"-PRON-\"])\n",
    "    return clean_text"
   ]
  },
  {
   "cell_type": "code",
   "execution_count": 162,
   "metadata": {},
   "outputs": [],
   "source": [
    "def chunk_noun_phrases(text):\n",
    "    ''' \n",
    "    this function returns the noun phrase chunk\n",
    "    '''\n",
    "    preprocessed_doc = nlp(preprocess(text))\n",
    "    return [phrase.text for phrase in preprocessed_doc.noun_chunks]"
   ]
  },
  {
   "cell_type": "raw",
   "metadata": {},
   "source": [
    "noun_phrases = chunk_noun_phrases(str(review_text))\n",
    "print(noun_phrases)"
   ]
  },
  {
   "cell_type": "code",
   "execution_count": 163,
   "metadata": {},
   "outputs": [],
   "source": [
    "data = pd.read_csv('../data/B005SUHPO6.csv')\n",
    "data.columns = map(str.lower, data.columns)\n",
    "data_reviews = data[['reviewtext']]\n",
    "sample = data_reviews.sample(15)"
   ]
  },
  {
   "cell_type": "code",
   "execution_count": 164,
   "metadata": {},
   "outputs": [],
   "source": [
    "sample['preprocess_text'] = sample['reviewtext'].map(preprocess)\n",
    "sample['noun_phrase'] = sample['reviewtext'].map(chunk_noun_phrases)\n",
    "sample_noun_phrase = sample['noun_phrase'].values.tolist()\n",
    "# sample_noun_phrase[0]"
   ]
  },
  {
   "cell_type": "code",
   "execution_count": 165,
   "metadata": {},
   "outputs": [],
   "source": [
    "corpus_dictionary = corpora.Dictionary(sample_noun_phrase)\n",
    "corpus_dictionary.filter_extremes(no_below=2)\n",
    "processed_corpus = [corpus_dictionary.doc2bow(doc) for doc in sample_noun_phrase]"
   ]
  },
  {
   "cell_type": "code",
   "execution_count": 173,
   "metadata": {},
   "outputs": [],
   "source": [
    "number_of_topics = 7\n",
    "lda = gensim.models.ldamodel.LdaModel\n",
    "lda_model = lda(corpus=processed_corpus, id2word=corpus_dictionary, num_topics=number_of_topics, passes=10, random_state=100, chunksize=1000) #random_state=100, chunksize=1000,                                     "
   ]
  },
  {
   "cell_type": "code",
   "execution_count": 174,
   "metadata": {},
   "outputs": [],
   "source": [
    "lda_model_perplexity = lda_model.log_perplexity(processed_corpus)\n",
    "coherence_model = CoherenceModel(model=lda_model, texts=sample_noun_phrase, dictionary=corpus_dictionary, coherence='c_v')\n",
    "lda_model_coherence = coherence_model.get_coherence()"
   ]
  },
  {
   "cell_type": "code",
   "execution_count": 175,
   "metadata": {},
   "outputs": [
    {
     "name": "stdout",
     "output_type": "stream",
     "text": [
      "\n",
      "Perplexit: -3.174936756576154 \n",
      "Coherence Value: 0.45920651083621283\n"
     ]
    }
   ],
   "source": [
    "print('\\nPerplexit: {} \\nCoherence Value: {}'.format(lda_model_perplexity, lda_model_coherence))"
   ]
  },
  {
   "cell_type": "code",
   "execution_count": 176,
   "metadata": {},
   "outputs": [
    {
     "name": "stdout",
     "output_type": "stream",
     "text": [
      "Topic 0: \n",
      "Words: 0.246*\"phone\" + 0.245*\"the otterbox defender\" + 0.245*\"this case\" + 0.209*\"the case\" + 0.030*\"friend\" + 0.026*\"this product\"\n",
      "Topic 1: \n",
      "Words: 0.441*\"this product\" + 0.441*\"the case\" + 0.030*\"phone\" + 0.030*\"this case\" + 0.030*\"the otterbox defender\" + 0.030*\"friend\"\n",
      "Topic 2: \n",
      "Words: 0.167*\"phone\" + 0.167*\"the case\" + 0.167*\"this case\" + 0.167*\"this product\" + 0.167*\"the otterbox defender\" + 0.167*\"friend\"\n",
      "Topic 3: \n",
      "Words: 0.846*\"phone\" + 0.031*\"the case\" + 0.031*\"the otterbox defender\" + 0.031*\"this case\" + 0.031*\"this product\" + 0.031*\"friend\"\n",
      "Topic 4: \n",
      "Words: 0.728*\"the otterbox defender\" + 0.057*\"this product\" + 0.054*\"this case\" + 0.054*\"phone\" + 0.054*\"the case\" + 0.054*\"friend\"\n",
      "Topic 5: \n",
      "Words: 0.747*\"friend\" + 0.051*\"the case\" + 0.051*\"this case\" + 0.051*\"phone\" + 0.051*\"the otterbox defender\" + 0.050*\"this product\"\n",
      "Topic 6: \n",
      "Words: 0.694*\"this case\" + 0.202*\"the case\" + 0.026*\"phone\" + 0.026*\"the otterbox defender\" + 0.026*\"friend\" + 0.025*\"this product\"\n"
     ]
    }
   ],
   "source": [
    "for i, t in lda_model.print_topics(-1):\n",
    "    print('Topic {}: \\nWords: {}'.format(i, t))"
   ]
  },
  {
   "cell_type": "code",
   "execution_count": 177,
   "metadata": {},
   "outputs": [],
   "source": [
    "aspect_word_prob = lda_model.print_topics() # topic-word matrix\n",
    "review_aspect_prob = lda_model[processed_corpus] # document-topic matrix"
   ]
  },
  {
   "cell_type": "code",
   "execution_count": 178,
   "metadata": {},
   "outputs": [
    {
     "data": {
      "text/plain": [
       "[(0, '0.246*\"phone\" + 0.245*\"the otterbox defender\" + 0.245*\"this case\"'),\n",
       " (1, '0.441*\"this product\" + 0.441*\"the case\" + 0.030*\"phone\"'),\n",
       " (2, '0.167*\"phone\" + 0.167*\"the case\" + 0.167*\"this case\"'),\n",
       " (3, '0.846*\"phone\" + 0.031*\"the case\" + 0.031*\"the otterbox defender\"'),\n",
       " (4,\n",
       "  '0.728*\"the otterbox defender\" + 0.057*\"this product\" + 0.054*\"this case\"'),\n",
       " (5, '0.747*\"friend\" + 0.051*\"the case\" + 0.051*\"this case\"'),\n",
       " (6, '0.694*\"this case\" + 0.202*\"the case\" + 0.026*\"phone\"')]"
      ]
     },
     "execution_count": 178,
     "metadata": {},
     "output_type": "execute_result"
    }
   ],
   "source": [
    "lda_model.show_topics(num_words=3)"
   ]
  },
  {
   "cell_type": "code",
   "execution_count": 179,
   "metadata": {},
   "outputs": [
    {
     "name": "stdout",
     "output_type": "stream",
     "text": [
      "[(0, 0.071428746), (1, 0.5714253), (2, 0.071430355), (3, 0.07142878), (4, 0.071429126), (5, 0.07142892), (6, 0.071428746)]\n",
      "[(0, 0.07152853), (1, 0.07142866), (2, 0.07142939), (3, 0.57132727), (4, 0.07142874), (5, 0.07142872), (6, 0.071428664)]\n",
      "[(0, 0.047666553), (1, 0.71419126), (2, 0.047620036), (3, 0.04761916), (4, 0.0476193), (5, 0.047619242), (6, 0.047664452)]\n",
      "[(0, 0.035922244), (1, 0.03571445), (2, 0.035715718), (3, 0.28563005), (4, 0.2857228), (5, 0.03571457), (6, 0.2855802)]\n",
      "[(0, 0.071553774), (1, 0.07142869), (2, 0.071429595), (3, 0.071428694), (4, 0.07142879), (5, 0.071428776), (6, 0.5713017)]\n",
      "[(0, 0.023977099), (1, 0.024000034), (2, 0.023811307), (3, 0.19041798), (4, 0.19053939), (5, 0.19057292), (6, 0.35668132)]\n",
      "[(0, 0.14285715), (1, 0.14285715), (2, 0.14285715), (3, 0.14285715), (4, 0.14285715), (5, 0.14285715), (6, 0.14285715)]\n",
      "[(0, 0.14285715), (1, 0.14285715), (2, 0.14285715), (3, 0.14285715), (4, 0.14285715), (5, 0.14285715), (6, 0.14285715)]\n",
      "[(0, 0.14285715), (1, 0.14285715), (2, 0.14285715), (3, 0.14285715), (4, 0.14285715), (5, 0.14285715), (6, 0.14285715)]\n",
      "[(0, 0.07152896), (1, 0.071428664), (2, 0.071429394), (3, 0.5713268), (4, 0.071428746), (5, 0.07142873), (6, 0.07142867)]\n",
      "[(0, 0.14285715), (1, 0.14285715), (2, 0.14285715), (3, 0.14285715), (4, 0.14285715), (5, 0.14285715), (6, 0.14285715)]\n",
      "[(0, 0.03580973), (1, 0.03589739), (2, 0.035715215), (3, 0.0357144), (4, 0.035714485), (5, 0.035714474), (6, 0.7854343)]\n",
      "[(0, 0.0478028), (1, 0.3806481), (2, 0.04762079), (3, 0.38096106), (4, 0.047619417), (5, 0.0476194), (6, 0.04772844)]\n",
      "[(0, 0.07155694), (1, 0.07142869), (2, 0.07142959), (3, 0.071428694), (4, 0.57129866), (5, 0.071428776), (6, 0.0714287)]\n",
      "[(0, 0.07142879), (1, 0.07142869), (2, 0.07142955), (3, 0.07142869), (4, 0.071428776), (5, 0.57142687), (6, 0.071428694)]\n"
     ]
    }
   ],
   "source": [
    "for i in review_aspect_prob:\n",
    "    print(i)"
   ]
  }
 ],
 "metadata": {
  "kernelspec": {
   "display_name": "Python 3",
   "language": "python",
   "name": "python3"
  },
  "language_info": {
   "codemirror_mode": {
    "name": "ipython",
    "version": 3
   },
   "file_extension": ".py",
   "mimetype": "text/x-python",
   "name": "python",
   "nbconvert_exporter": "python",
   "pygments_lexer": "ipython3",
   "version": "3.8.3"
  }
 },
 "nbformat": 4,
 "nbformat_minor": 4
}
