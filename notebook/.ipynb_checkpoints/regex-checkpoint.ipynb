{
 "cells": [
  {
   "cell_type": "code",
   "execution_count": 33,
   "metadata": {},
   "outputs": [
    {
     "data": {
      "text/plain": [
       "'----'"
      ]
     },
     "execution_count": 33,
     "metadata": {},
     "output_type": "execute_result"
    }
   ],
   "source": [
    "import re\n",
    "pattern = re.compile('--{1,4}')\n",
    "match = re.match(pattern, '----qqwqwqwq -----is ------simple text')\n",
    "match.group(0)"
   ]
  },
  {
   "cell_type": "code",
   "execution_count": 74,
   "metadata": {},
   "outputs": [
    {
     "data": {
      "text/plain": [
       "'I would not ask for such thing hereaafter!'"
      ]
     },
     "execution_count": 74,
     "metadata": {},
     "output_type": "execute_result"
    }
   ],
   "source": [
    "contraction_map = {\n",
    "    \"I'd\": \"I would\", \"I'd've\": \"I would have\",\"I'll\": \"I will\", \"I'm\": \"I am\"\n",
    "}\n",
    "\n",
    "text = \"I'm not ask for such thing hereaafter!\"\n",
    "\n",
    "pattern = re.compile(r\"(I'd|I'd've|I'll|I'm)\", re.IGNORECASE)\n",
    "# re.match(pattern, text).group(0)\n",
    "\n",
    "# replace_string = contraction_map[re.match(pattern, text).group(0)]\n",
    "re.sub(pattern, replace_string, text)"
   ]
  },
  {
   "cell_type": "code",
   "execution_count": 75,
   "metadata": {},
   "outputs": [
    {
     "data": {
      "text/plain": [
       "'I am not ask for such thing hereaafter!'"
      ]
     },
     "execution_count": 75,
     "metadata": {},
     "output_type": "execute_result"
    }
   ],
   "source": [
    "def replace(match):\n",
    "    return contraction_map[match.group(0)]\n",
    "\n",
    "pattern.sub(replace, text)"
   ]
  },
  {
   "cell_type": "code",
   "execution_count": 77,
   "metadata": {},
   "outputs": [
    {
     "data": {
      "text/plain": [
       "'I am not ask for such thing hereaafter!'"
      ]
     },
     "execution_count": 77,
     "metadata": {},
     "output_type": "execute_result"
    }
   ],
   "source": [
    "pattern = re.compile('({})'.format('|'.join(contraction_map.keys())), flags=re.IGNORECASE)\n",
    "\n",
    "def expand_contractions(text, pattern, contraction_dict):\n",
    "    '''\n",
    "    this function will expands the contraction of provided text by matching the pattern given\n",
    "        text - sentence, phrase or word for expansion\n",
    "        patter - regex pattern\n",
    "        contraction_dict - contraction mapping dictionary\n",
    "    '''\n",
    "    def replace(match):\n",
    "        return contraction_map[match.group(0)]\n",
    "    return pattern.sub(replace, text)\n",
    "\n",
    "expand_contractions(text, pattern, contraction_map)"
   ]
  }
 ],
 "metadata": {
  "kernelspec": {
   "display_name": "Python 3",
   "language": "python",
   "name": "python3"
  },
  "language_info": {
   "codemirror_mode": {
    "name": "ipython",
    "version": 3
   },
   "file_extension": ".py",
   "mimetype": "text/x-python",
   "name": "python",
   "nbconvert_exporter": "python",
   "pygments_lexer": "ipython3",
   "version": "3.8.3"
  }
 },
 "nbformat": 4,
 "nbformat_minor": 4
}
