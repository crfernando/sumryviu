{
 "cells": [
  {
   "cell_type": "code",
   "execution_count": 1,
   "metadata": {},
   "outputs": [],
   "source": [
    "import pandas as pd\n",
    "import gzip\n",
    "import json\n",
    "pd.set_option('display.max_colwidth', None)"
   ]
  },
  {
   "cell_type": "code",
   "execution_count": 2,
   "metadata": {},
   "outputs": [],
   "source": [
    "def parse(path):\n",
    "  g = gzip.open(path, 'rb')\n",
    "  for l in g:\n",
    "    yield json.loads(l)\n",
    "\n",
    "def getDF(path):\n",
    "  i = 0\n",
    "  df = {}\n",
    "  for d in parse(path):\n",
    "    df[i] = d\n",
    "    i += 1\n",
    "  return pd.DataFrame.from_dict(df, orient='index')"
   ]
  },
  {
   "cell_type": "code",
   "execution_count": 3,
   "metadata": {},
   "outputs": [
    {
     "name": "stdout",
     "output_type": "stream",
     "text": [
      "<class 'pandas.core.frame.DataFrame'>\n",
      "Int64Index: 41047 entries, 0 to 41046\n",
      "Data columns (total 27 columns):\n",
      " #   Column          Non-Null Count  Dtype  \n",
      "---  ------          --------------  -----  \n",
      " 0   category        41047 non-null  object \n",
      " 1   description     37212 non-null  object \n",
      " 2   title           41047 non-null  object \n",
      " 3   brand           40886 non-null  object \n",
      " 4   feature         39079 non-null  object \n",
      " 5   rank            40991 non-null  object \n",
      " 6   also_view       10057 non-null  object \n",
      " 7   main_cat        41047 non-null  object \n",
      " 8   price           28155 non-null  object \n",
      " 9   asin            41047 non-null  object \n",
      " 10  image_l         35162 non-null  object \n",
      " 11  similar_item    30053 non-null  object \n",
      " 12  also_buy        18586 non-null  object \n",
      " 13  date            2986 non-null   object \n",
      " 14  tech1           670 non-null    object \n",
      " 15  details         232 non-null    object \n",
      " 16  overall         41047 non-null  float64\n",
      " 17  verified        41047 non-null  bool   \n",
      " 18  reviewTime      41047 non-null  object \n",
      " 19  reviewerID      41047 non-null  object \n",
      " 20  reviewerName    41043 non-null  object \n",
      " 21  reviewText      41042 non-null  object \n",
      " 22  summary         41041 non-null  object \n",
      " 23  unixReviewTime  41047 non-null  int64  \n",
      " 24  style           18066 non-null  object \n",
      " 25  vote            7773 non-null   object \n",
      " 26  image_r         406 non-null    object \n",
      "dtypes: bool(1), float64(1), int64(1), object(24)\n",
      "memory usage: 8.5+ MB\n"
     ]
    }
   ],
   "source": [
    "meta_data = getDF('../data/sample_meta_Home_and_Kitchen.json.gz')\n",
    "review_data = getDF('../data/sample_Home_and_Kitchen_5.json.gz')\n",
    "meta_distinct = meta_data.drop_duplicates(subset=['asin'])\n",
    "main_data = pd.merge(meta_distinct, review_data, on='asin', how='inner', suffixes=('_l', '_r'))\n",
    "main_data.info()"
   ]
  },
  {
   "cell_type": "code",
   "execution_count": 4,
   "metadata": {},
   "outputs": [
    {
     "name": "stdout",
     "output_type": "stream",
     "text": [
      "<class 'pandas.core.frame.DataFrame'>\n",
      "Int64Index: 41047 entries, 0 to 41046\n",
      "Data columns (total 7 columns):\n",
      " #   Column          Non-Null Count  Dtype \n",
      "---  ------          --------------  ----- \n",
      " 0   asin            41047 non-null  object\n",
      " 1   brand           40886 non-null  object\n",
      " 2   title           41047 non-null  object\n",
      " 3   reviewText      41042 non-null  object\n",
      " 4   summary         41041 non-null  object\n",
      " 5   reviewerID      41047 non-null  object\n",
      " 6   unixReviewTime  41047 non-null  int64 \n",
      "dtypes: int64(1), object(6)\n",
      "memory usage: 2.5+ MB\n"
     ]
    }
   ],
   "source": [
    "reviews_clean_1 = main_data[['asin', 'brand', 'title', 'reviewText', 'summary', 'reviewerID', 'unixReviewTime']].copy()\n",
    "reviews_clean_1.info()"
   ]
  },
  {
   "cell_type": "code",
   "execution_count": 5,
   "metadata": {},
   "outputs": [
    {
     "name": "stdout",
     "output_type": "stream",
     "text": [
      "<class 'pandas.core.frame.DataFrame'>\n",
      "Int64Index: 37183 entries, 0 to 41046\n",
      "Data columns (total 7 columns):\n",
      " #   Column          Non-Null Count  Dtype \n",
      "---  ------          --------------  ----- \n",
      " 0   asin            37183 non-null  object\n",
      " 1   brand           37183 non-null  object\n",
      " 2   title           37183 non-null  object\n",
      " 3   reviewText      37183 non-null  object\n",
      " 4   summary         37183 non-null  object\n",
      " 5   reviewerID      37183 non-null  object\n",
      " 6   unixReviewTime  37183 non-null  int64 \n",
      "dtypes: int64(1), object(6)\n",
      "memory usage: 2.3+ MB\n"
     ]
    }
   ],
   "source": [
    "reviews_clean_2 = reviews_clean_1.dropna(how='any') # drop null values\n",
    "reviews_clean_3 = reviews_clean_2.drop_duplicates(subset=['asin', 'reviewerID', 'unixReviewTime']) # drop duplicates\n",
    "reviews_clean_4 = reviews_clean_3[~reviews_clean_3.title.str.contains('getTime')] # remove rows with unformatted title, some 'title' may still contain html style content\n",
    "reviews_clean_4.info()"
   ]
  },
  {
   "cell_type": "code",
   "execution_count": 40,
   "metadata": {},
   "outputs": [
    {
     "data": {
      "text/html": [
       "<div>\n",
       "<style scoped>\n",
       "    .dataframe tbody tr th:only-of-type {\n",
       "        vertical-align: middle;\n",
       "    }\n",
       "\n",
       "    .dataframe tbody tr th {\n",
       "        vertical-align: top;\n",
       "    }\n",
       "\n",
       "    .dataframe thead th {\n",
       "        text-align: right;\n",
       "    }\n",
       "</style>\n",
       "<table border=\"1\" class=\"dataframe\">\n",
       "  <thead>\n",
       "    <tr style=\"text-align: right;\">\n",
       "      <th></th>\n",
       "      <th>asin</th>\n",
       "      <th>brand</th>\n",
       "      <th>title</th>\n",
       "      <th>reviewText</th>\n",
       "      <th>summary</th>\n",
       "    </tr>\n",
       "  </thead>\n",
       "  <tbody>\n",
       "    <tr>\n",
       "      <th>0</th>\n",
       "      <td>B00002N62Y</td>\n",
       "      <td>Eureka</td>\n",
       "      <td>Eureka 54312-12 Vacuum Cleaner Belt</td>\n",
       "      <td>good product and price</td>\n",
       "      <td>Four Stars</td>\n",
       "    </tr>\n",
       "    <tr>\n",
       "      <th>1</th>\n",
       "      <td>B00002N62Y</td>\n",
       "      <td>Eureka</td>\n",
       "      <td>Eureka 54312-12 Vacuum Cleaner Belt</td>\n",
       "      <td>These belts are $2+ retail and some retailers/sellers use generic/non OEM specs sop the belts are loose...not the case with these!</td>\n",
       "      <td>Great price - OEM belts!</td>\n",
       "    </tr>\n",
       "    <tr>\n",
       "      <th>2</th>\n",
       "      <td>B00002N62Y</td>\n",
       "      <td>Eureka</td>\n",
       "      <td>Eureka 54312-12 Vacuum Cleaner Belt</td>\n",
       "      <td>These came in a 2 pk and are perfect fit for my good old vac. Seem strong and durable. Not available local so I hope they last.</td>\n",
       "      <td>2fer wow</td>\n",
       "    </tr>\n",
       "    <tr>\n",
       "      <th>3</th>\n",
       "      <td>B00002N62Y</td>\n",
       "      <td>Eureka</td>\n",
       "      <td>Eureka 54312-12 Vacuum Cleaner Belt</td>\n",
       "      <td>So my super fancy vacuum cleaner, the one with the cold fusion reactor that picks up bowling balls and small furry critters was stumped by that small paper circle leftover from my three hole punch, the paper equivalent of the doughnut munchkin.\\n\\nI passed over the little bugger hundreds of time causing a mild brown out in southern California as I increased the power to the machine well past the safety protocols.. Yeah sorry that was me.. yet the small paper dot remained unmoving on the floor.  Mocking me....I swear it flipped over showing me its back side as a further insult.  I paid good money for this piece of modern technology and was not about to bend down and pick the dot up.\\n\\nNo way, never.\\n\\nAfter going to night school to lean vacuum cleaner maintenance, I felt ready to fix my machine and get that evil disc off my floor at last.  It had since been joined by others of its kind as I like ventilating paper with my electric three hole punch machine, I do this continually actually using recycled paper of course, but that is another tale for another review.\\nAnyway, I realized that there was a belt in the vacuum that had stopped doing the belt thing between the fusion reactor and the mach 5 brushes that would pulverize dirt unless it surrendered peacefully.\\n\\nMy quest began as not all belts are the same. No siree, they have many names and many numbers and most would not work for my machine, nor come in time to save my marriage.\\n\\nI called Jeff Bezos who told me that Amazon sold stuff like this and after he tried to sell me a Kindle, I went online and found this belt and I ordered it.  It was indeed a joyous day. I did not buy a Kindle.\\n\\nThe belt arrived promptly and I implanted it into the unit.  In the process, dirt from as far back as 1942 was released into my home causing near white out conditions but I managed to conclude the operation.  Gasping I turned on the machine and in moments the near toxic environment was replaced with clean fresh air, dust free and smelling of pine. I proceeded to capture the paper circles and made life bearable once again.  Eureka!!!!</td>\n",
       "      <td>WOWEE!!!</td>\n",
       "    </tr>\n",
       "    <tr>\n",
       "      <th>4</th>\n",
       "      <td>B00002N62Y</td>\n",
       "      <td>Eureka</td>\n",
       "      <td>Eureka 54312-12 Vacuum Cleaner Belt</td>\n",
       "      <td>Right one for my eureka.</td>\n",
       "      <td>Four Stars</td>\n",
       "    </tr>\n",
       "  </tbody>\n",
       "</table>\n",
       "</div>"
      ],
      "text/plain": [
       "         asin   brand                                title  \\\n",
       "0  B00002N62Y  Eureka  Eureka 54312-12 Vacuum Cleaner Belt   \n",
       "1  B00002N62Y  Eureka  Eureka 54312-12 Vacuum Cleaner Belt   \n",
       "2  B00002N62Y  Eureka  Eureka 54312-12 Vacuum Cleaner Belt   \n",
       "3  B00002N62Y  Eureka  Eureka 54312-12 Vacuum Cleaner Belt   \n",
       "4  B00002N62Y  Eureka  Eureka 54312-12 Vacuum Cleaner Belt   \n",
       "\n",
       "                                                                                                                                                                                                                                                                                                                                                                                                                                                                                                                                                                                                                                                                                                                                                                                                                                                                                                                                                                                                                                                                                                                                                                                                                                                                                                                                                                                                                                                                                                                                                                                                                                                                                                                                                                                                                                                                                                                                                                                                                                                                                                                                                                                        reviewText  \\\n",
       "0                                                                                                                                                                                                                                                                                                                                                                                                                                                                                                                                                                                                                                                                                                                                                                                                                                                                                                                                                                                                                                                                                                                                                                                                                                                                                                                                                                                                                                                                                                                                                                                                                                                                                                                                                                                                                                                                                                                                                                                                                                                                                                                                                                           good product and price   \n",
       "1                                                                                                                                                                                                                                                                                                                                                                                                                                                                                                                                                                                                                                                                                                                                                                                                                                                                                                                                                                                                                                                                                                                                                                                                                                                                                                                                                                                                                                                                                                                                                                                                                                                                                                                                                                                                                                                                                                                                                                                                                                                               These belts are $2+ retail and some retailers/sellers use generic/non OEM specs sop the belts are loose...not the case with these!   \n",
       "2                                                                                                                                                                                                                                                                                                                                                                                                                                                                                                                                                                                                                                                                                                                                                                                                                                                                                                                                                                                                                                                                                                                                                                                                                                                                                                                                                                                                                                                                                                                                                                                                                                                                                                                                                                                                                                                                                                                                                                                                                                                                  These came in a 2 pk and are perfect fit for my good old vac. Seem strong and durable. Not available local so I hope they last.   \n",
       "3  So my super fancy vacuum cleaner, the one with the cold fusion reactor that picks up bowling balls and small furry critters was stumped by that small paper circle leftover from my three hole punch, the paper equivalent of the doughnut munchkin.\\n\\nI passed over the little bugger hundreds of time causing a mild brown out in southern California as I increased the power to the machine well past the safety protocols.. Yeah sorry that was me.. yet the small paper dot remained unmoving on the floor.  Mocking me....I swear it flipped over showing me its back side as a further insult.  I paid good money for this piece of modern technology and was not about to bend down and pick the dot up.\\n\\nNo way, never.\\n\\nAfter going to night school to lean vacuum cleaner maintenance, I felt ready to fix my machine and get that evil disc off my floor at last.  It had since been joined by others of its kind as I like ventilating paper with my electric three hole punch machine, I do this continually actually using recycled paper of course, but that is another tale for another review.\\nAnyway, I realized that there was a belt in the vacuum that had stopped doing the belt thing between the fusion reactor and the mach 5 brushes that would pulverize dirt unless it surrendered peacefully.\\n\\nMy quest began as not all belts are the same. No siree, they have many names and many numbers and most would not work for my machine, nor come in time to save my marriage.\\n\\nI called Jeff Bezos who told me that Amazon sold stuff like this and after he tried to sell me a Kindle, I went online and found this belt and I ordered it.  It was indeed a joyous day. I did not buy a Kindle.\\n\\nThe belt arrived promptly and I implanted it into the unit.  In the process, dirt from as far back as 1942 was released into my home causing near white out conditions but I managed to conclude the operation.  Gasping I turned on the machine and in moments the near toxic environment was replaced with clean fresh air, dust free and smelling of pine. I proceeded to capture the paper circles and made life bearable once again.  Eureka!!!!   \n",
       "4                                                                                                                                                                                                                                                                                                                                                                                                                                                                                                                                                                                                                                                                                                                                                                                                                                                                                                                                                                                                                                                                                                                                                                                                                                                                                                                                                                                                                                                                                                                                                                                                                                                                                                                                                                                                                                                                                                                                                                                                                                                                                                                                                                         Right one for my eureka.   \n",
       "\n",
       "                    summary  \n",
       "0                Four Stars  \n",
       "1  Great price - OEM belts!  \n",
       "2                  2fer wow  \n",
       "3                  WOWEE!!!  \n",
       "4                Four Stars  "
      ]
     },
     "execution_count": 40,
     "metadata": {},
     "output_type": "execute_result"
    }
   ],
   "source": [
    "reviews = reviews_clean_4[['asin', 'brand', 'title', 'reviewText', 'summary']].copy()\n",
    "reviews.head()"
   ]
  },
  {
   "cell_type": "code",
   "execution_count": 39,
   "metadata": {},
   "outputs": [],
   "source": [
    "reviews_head = reviews.head()\n",
    "review_text = []\n",
    "for line in reviews_head.reviewText:\n",
    "    review_text += line.splitlines()"
   ]
  },
  {
   "cell_type": "code",
   "execution_count": 21,
   "metadata": {},
   "outputs": [
    {
     "data": {
      "text/plain": [
       "['good product and price',\n",
       " 'These belts are $2+ retail and some retailers/sellers use generic/non OEM specs sop the belts are loose...not the case with these!',\n",
       " 'These came in a 2 pk and are perfect fit for my good old vac. Seem strong and durable. Not available local so I hope they last.',\n",
       " 'So my super fancy vacuum cleaner, the one with the cold fusion reactor that picks up bowling balls and small furry critters was stumped by that small paper circle leftover from my three hole punch, the paper equivalent of the doughnut munchkin.',\n",
       " '',\n",
       " 'I passed over the little bugger hundreds of time causing a mild brown out in southern California as I increased the power to the machine well past the safety protocols.. Yeah sorry that was me.. yet the small paper dot remained unmoving on the floor.  Mocking me....I swear it flipped over showing me its back side as a further insult.  I paid good money for this piece of modern technology and was not about to bend down and pick the dot up.',\n",
       " '',\n",
       " 'No way, never.',\n",
       " '',\n",
       " 'After going to night school to lean vacuum cleaner maintenance, I felt ready to fix my machine and get that evil disc off my floor at last.  It had since been joined by others of its kind as I like ventilating paper with my electric three hole punch machine, I do this continually actually using recycled paper of course, but that is another tale for another review.',\n",
       " 'Anyway, I realized that there was a belt in the vacuum that had stopped doing the belt thing between the fusion reactor and the mach 5 brushes that would pulverize dirt unless it surrendered peacefully.',\n",
       " '',\n",
       " 'My quest began as not all belts are the same. No siree, they have many names and many numbers and most would not work for my machine, nor come in time to save my marriage.',\n",
       " '',\n",
       " 'I called Jeff Bezos who told me that Amazon sold stuff like this and after he tried to sell me a Kindle, I went online and found this belt and I ordered it.  It was indeed a joyous day. I did not buy a Kindle.',\n",
       " '',\n",
       " 'The belt arrived promptly and I implanted it into the unit.  In the process, dirt from as far back as 1942 was released into my home causing near white out conditions but I managed to conclude the operation.  Gasping I turned on the machine and in moments the near toxic environment was replaced with clean fresh air, dust free and smelling of pine. I proceeded to capture the paper circles and made life bearable once again.  Eureka!!!!',\n",
       " 'Right one for my eureka.']"
      ]
     },
     "execution_count": 21,
     "metadata": {},
     "output_type": "execute_result"
    }
   ],
   "source": [
    "review_text"
   ]
  },
  {
   "cell_type": "code",
   "execution_count": 33,
   "metadata": {},
   "outputs": [],
   "source": [
    "from nltk.tokenize import sent_tokenize\n",
    "tokens = sent_tokenize(str(review_text))"
   ]
  },
  {
   "cell_type": "code",
   "execution_count": 38,
   "metadata": {},
   "outputs": [
    {
     "data": {
      "text/plain": [
       "[\"['good product and price', 'these belts are $2+ retail and some retailers/sellers use generic/non oem specs sop the belts are loose...not the case with these!\",\n",
       " \"', 'these came in a 2 pk and are perfect fit for my good old vac.\",\n",
       " 'seem strong and durable.',\n",
       " 'not available local so i hope they last.',\n",
       " \"', 'so my super fancy vacuum cleaner, the one with the cold fusion reactor that picks up bowling balls and small furry critters was stumped by that small paper circle leftover from my three hole punch, the paper equivalent of the doughnut munchkin.\",\n",
       " \"', '', 'i passed over the little bugger hundreds of time causing a mild brown out in southern california as i increased the power to the machine well past the safety protocols.. yeah sorry that was me.. yet the small paper dot remained unmoving on the floor.\",\n",
       " 'mocking me....i swear it flipped over showing me its back side as a further insult.',\n",
       " 'i paid good money for this piece of modern technology and was not about to bend down and pick the dot up.',\n",
       " \"', '', 'no way, never.\",\n",
       " \"', '', 'after going to night school to lean vacuum cleaner maintenance, i felt ready to fix my machine and get that evil disc off my floor at last.\",\n",
       " 'it had since been joined by others of its kind as i like ventilating paper with my electric three hole punch machine, i do this continually actually using recycled paper of course, but that is another tale for another review.',\n",
       " \"', 'anyway, i realized that there was a belt in the vacuum that had stopped doing the belt thing between the fusion reactor and the mach 5 brushes that would pulverize dirt unless it surrendered peacefully.\",\n",
       " \"', '', 'my quest began as not all belts are the same.\",\n",
       " 'no siree, they have many names and many numbers and most would not work for my machine, nor come in time to save my marriage.',\n",
       " \"', '', 'i called jeff bezos who told me that amazon sold stuff like this and after he tried to sell me a kindle, i went online and found this belt and i ordered it.\",\n",
       " 'it was indeed a joyous day.',\n",
       " 'i did not buy a kindle.',\n",
       " \"', '', 'the belt arrived promptly and i implanted it into the unit.\",\n",
       " 'in the process, dirt from as far back as 1942 was released into my home causing near white out conditions but i managed to conclude the operation.',\n",
       " 'gasping i turned on the machine and in moments the near toxic environment was replaced with clean fresh air, dust free and smelling of pine.',\n",
       " 'i proceeded to capture the paper circles and made life bearable once again.',\n",
       " 'eureka!!!!',\n",
       " \"', 'right one for my eureka.']\"]"
      ]
     },
     "execution_count": 38,
     "metadata": {},
     "output_type": "execute_result"
    }
   ],
   "source": [
    "tokens_normalized = [token.lower() for token in tokens]\n",
    "tokens_normalized"
   ]
  }
 ],
 "metadata": {
  "kernelspec": {
   "display_name": "Python 3",
   "language": "python",
   "name": "python3"
  },
  "language_info": {
   "codemirror_mode": {
    "name": "ipython",
    "version": 3
   },
   "file_extension": ".py",
   "mimetype": "text/x-python",
   "name": "python",
   "nbconvert_exporter": "python",
   "pygments_lexer": "ipython3",
   "version": "3.8.3"
  }
 },
 "nbformat": 4,
 "nbformat_minor": 4
}
