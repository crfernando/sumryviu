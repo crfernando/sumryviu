{
 "cells": [
  {
   "cell_type": "code",
   "execution_count": 21,
   "metadata": {},
   "outputs": [],
   "source": [
    "import pandas as pd\n",
    "import spacy \n",
    "import gensim\n",
    "import gensim.corpora as corpora\n",
    "from gensim.utils import simple_preprocess\n",
    "\n",
    "pd.set_option('display.max_colwidth', None)\n",
    "nlp = spacy.load('en')"
   ]
  },
  {
   "cell_type": "code",
   "execution_count": 17,
   "metadata": {},
   "outputs": [],
   "source": [
    "dataset_review_meta = pd.read_csv('/mnt/d/data/amazon-review-data/amazon-cell-phone-review-meta.csv', nrows=5)\n",
    "dataset_review = pd.read_csv('/mnt/d/data/amazon-review-data/amazon-cell-phone-reviews.csv', nrows=5)\n",
    "dataset_review.columns = map(str.lower, dataset_review.columns)\n",
    "data_review_text = dataset_review[['body']]\n",
    "sample = data_review_text.sample(5)"
   ]
  },
  {
   "cell_type": "code",
   "execution_count": 19,
   "metadata": {},
   "outputs": [],
   "source": [
    "def preprocess(text):\n",
    "    ''' \n",
    "    this function does simple text pre-processing such as, \n",
    "        - remove stop words\n",
    "        - remove punctuation\n",
    "        - convert to lowercase\n",
    "        - lemmatizaation\n",
    "    '''\n",
    "    preprocessed_text = \" \".join(simple_preprocess(text))\n",
    "    preprocessed_text_doc = nlp(preprocessed_text)\n",
    "    clean_text = \" \".join([token.lemma_.strip().lower() for token in preprocessed_text_doc if token.lemma_ != \"-PRON-\"])\n",
    "    return clean_text\n",
    "\n",
    "def chunk_noun_phrases(text):\n",
    "    ''' \n",
    "    this function returns the noun phrase chunk\n",
    "    '''\n",
    "    preprocessed_doc = nlp(preprocess(text))\n",
    "    return [phrase.text for phrase in preprocessed_doc.noun_chunks]"
   ]
  },
  {
   "cell_type": "code",
   "execution_count": 23,
   "metadata": {},
   "outputs": [
    {
     "name": "stdout",
     "output_type": "stream",
     "text": [
      "CPU times: user 38.1 s, sys: 2.56 s, total: 40.6 s\n",
      "Wall time: 40.5 s\n"
     ]
    }
   ],
   "source": [
    "%%time\n",
    "sample['preprocess_text'] = sample['body'].map(preprocess)\n",
    "sample['noun_phrase'] = sample['body'].map(chunk_noun_phrases)\n",
    "sample_noun_phrase = sample['noun_phrase'].values.tolist()\n",
    "# sample_noun_phrase[0]"
   ]
  },
  {
   "cell_type": "code",
   "execution_count": 2,
   "metadata": {},
   "outputs": [
    {
     "ename": "NameError",
     "evalue": "name 'sample_noun_phrase' is not defined",
     "output_type": "error",
     "traceback": [
      "\u001b[0;31m---------------------------------------------------------------------------\u001b[0m",
      "\u001b[0;31mNameError\u001b[0m                                 Traceback (most recent call last)",
      "\u001b[0;32m<ipython-input-2-8dca183cea7e>\u001b[0m in \u001b[0;36m<module>\u001b[0;34m\u001b[0m\n\u001b[0;32m----> 1\u001b[0;31m \u001b[0mprint\u001b[0m\u001b[0;34m(\u001b[0m\u001b[0msample_noun_phrase\u001b[0m\u001b[0;34m.\u001b[0m\u001b[0mvalues\u001b[0m\u001b[0;34m(\u001b[0m\u001b[0;34m)\u001b[0m\u001b[0;34m)\u001b[0m\u001b[0;34m\u001b[0m\u001b[0;34m\u001b[0m\u001b[0m\n\u001b[0m",
      "\u001b[0;31mNameError\u001b[0m: name 'sample_noun_phrase' is not defined"
     ]
    }
   ],
   "source": [
    "print(sample_noun_phrase)"
   ]
  },
  {
   "cell_type": "code",
   "execution_count": null,
   "metadata": {},
   "outputs": [],
   "source": []
  }
 ],
 "metadata": {
  "kernelspec": {
   "display_name": "Python 3",
   "language": "python",
   "name": "python3"
  },
  "language_info": {
   "codemirror_mode": {
    "name": "ipython",
    "version": 3
   },
   "file_extension": ".py",
   "mimetype": "text/x-python",
   "name": "python",
   "nbconvert_exporter": "python",
   "pygments_lexer": "ipython3",
   "version": "3.8.3"
  }
 },
 "nbformat": 4,
 "nbformat_minor": 4
}
